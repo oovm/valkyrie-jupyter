{
 "cells": [
  {
   "cell_type": "markdown",
   "id": "cf058a32-c2da-4c73-8a1f-a8da807f4148",
   "metadata": {},
   "source": [
    "# Literal"
   ]
  },
  {
   "cell_type": "markdown",
   "id": "16280760-e5e2-4622-a01f-41f51551bbf1",
   "metadata": {},
   "source": [
    "## Boolean\n",
    "\n",
    "Boolean value, only two states, but actually occupies 8 bits"
   ]
  },
  {
   "cell_type": "code",
   "execution_count": 1,
   "id": "8645cc1f-e440-4189-b221-fa10a855a6fc",
   "metadata": {},
   "outputs": [
    {
     "data": {
      "text/html": [
       "<span style=\"color: #A626A4\">true</span>"
      ]
     },
     "execution_count": 1,
     "metadata": {},
     "output_type": "execute_result"
    },
    {
     "data": {
      "text/html": [
       "<span style=\"color: #A626A4\">false</span>"
      ]
     },
     "execution_count": 1,
     "metadata": {},
     "output_type": "execute_result"
    }
   ],
   "source": [
    "true\n",
    "false"
   ]
  },
  {
   "cell_type": "markdown",
   "id": "25c8b166-1b01-4de7-a310-ef14ea4e053b",
   "metadata": {},
   "source": [
    "## Integer\n",
    "\n",
    "An arbitrarily large integer with no bounds"
   ]
  },
  {
   "cell_type": "code",
   "execution_count": 2,
   "id": "35753e5e-8c0a-4b55-8b0d-7e03466c5346",
   "metadata": {},
   "outputs": [
    {
     "data": {
      "text/html": [
       "<span style=\"color: #986801\">0</span>"
      ]
     },
     "execution_count": 2,
     "metadata": {},
     "output_type": "execute_result"
    },
    {
     "data": {
      "text/html": [
       "<span style=\"color: #986801\">4294967296</span>"
      ]
     },
     "execution_count": 2,
     "metadata": {},
     "output_type": "execute_result"
    }
   ],
   "source": [
    "0\n",
    "4294967296"
   ]
  },
  {
   "cell_type": "markdown",
   "id": "8564956f-7fc3-473c-b085-727c9befa656",
   "metadata": {},
   "source": [
    "## Decimal\n",
    "\n",
    "Arbitrary decimals with adaptive precision"
   ]
  },
  {
   "cell_type": "code",
   "execution_count": 3,
   "id": "0c9dd559-df85-481a-be60-e798f2a58607",
   "metadata": {},
   "outputs": [
    {
     "data": {
      "application/vnd.jupyter.stderr": "<div class=\"error\">Error: Unknown number: invalid digit</div>"
     },
     "execution_count": 3,
     "metadata": {},
     "output_type": "execute_result"
    }
   ],
   "source": [
    "0.0"
   ]
  },
  {
   "cell_type": "markdown",
   "id": "438eff97-b5a4-497b-80e3-d2071ecd06c2",
   "metadata": {
    "tags": []
   },
   "source": [
    "## String\n",
    "\n",
    "Wrapped with `\" \"` or `' '` is a string literal, escaped with `\\` and interpolated with `{ }`\n"
   ]
  },
  {
   "cell_type": "code",
   "execution_count": 4,
   "id": "3bdc0116-cfd6-48ff-a091-2dba8297c5f5",
   "metadata": {},
   "outputs": [
    {
     "data": {
      "text/plain": [
       "'string'"
      ]
     },
     "execution_count": 4,
     "metadata": {},
     "output_type": "execute_result"
    },
    {
     "data": {
      "text/plain": [
       "'string'"
      ]
     },
     "execution_count": 4,
     "metadata": {},
     "output_type": "execute_result"
    }
   ],
   "source": [
    "'string'\n",
    "\"string\""
   ]
  },
  {
   "cell_type": "markdown",
   "id": "357665ca-be5a-4cb2-8f03-507ac96f5716",
   "metadata": {},
   "source": [
    "## Raw String Literal\n",
    "\n",
    "Unescaped raw strings can be obtained in the form of `r\"literal\"`\n",
    "\n",
    "But `\" \"` strings cannot appear `\"`, `' '` strings cannot appear `'`\n",
    "\n",
    "If you need a raw string containing `\"`, you can use `r\"\"\" \"\"\"` or `r\"\"\"\" \"\"\"\"\"` package"
   ]
  },
  {
   "cell_type": "code",
   "execution_count": 5,
   "id": "171a1443-c72d-4995-b83d-07e71f5b87cc",
   "metadata": {},
   "outputs": [
    {
     "data": {
      "text/plain": [
       "'line    \\\\n   other line'"
      ]
     },
     "execution_count": 5,
     "metadata": {},
     "output_type": "execute_result"
    },
    {
     "data": {
      "text/plain": [
       "line    \\n   other line"
      ]
     },
     "execution_count": 5,
     "metadata": {},
     "output_type": "execute_result"
    }
   ],
   "source": [
    "\"line    \\n   other line\"\n",
    "r\"line    \\n   other line\""
   ]
  },
  {
   "cell_type": "markdown",
   "id": "b8a7efcb-14e3-4345-9e16-0c5424fe36a0",
   "metadata": {
    "tags": []
   },
   "source": [
    "## 【TODO】Template String Literal\n",
    "\n"
   ]
  },
  {
   "cell_type": "code",
   "execution_count": 6,
   "id": "fb664c63-835c-45b4-8a4f-c8ba5f05acf3",
   "metadata": {},
   "outputs": [
    {
     "data": {
      "text/plain": [
       "'{1 + 1}'"
      ]
     },
     "execution_count": 6,
     "metadata": {},
     "output_type": "execute_result"
    }
   ],
   "source": [
    "\"{1 + 1}\""
   ]
  },
  {
   "cell_type": "markdown",
   "id": "ab2b0cf8-de11-4ee8-9aed-9096cf1f4a89",
   "metadata": {},
   "source": [
    "## Json Literal\n",
    "\n",
    "TODO: support json literal"
   ]
  },
  {
   "cell_type": "code",
   "execution_count": 7,
   "id": "b9e71bd7-2bda-4653-a2fd-e71740091192",
   "metadata": {},
   "outputs": [
    {
     "data": {
      "application/json": {
       "boolean": [
        true,
        false
       ],
       "nothing": null,
       "number": [
        0,
        1,
        2,
        3,
        4
       ],
       "string": 2
      }
     },
     "execution_count": 7,
     "metadata": {},
     "output_type": "execute_result"
    }
   ],
   "source": [
    "json\"\"\"\n",
    "{\n",
    "    \"nothing\": null,\n",
    "    \"boolean\": [true, false],\n",
    "    \"number\": [0, 1, 2, 3, 4.0],\n",
    "    \"string\": 2\n",
    "}\n",
    "\"\"\""
   ]
  },
  {
   "cell_type": "markdown",
   "id": "431519f2-2672-4555-8720-544aa84a2426",
   "metadata": {},
   "source": [
    "Also supports reading json5"
   ]
  },
  {
   "cell_type": "code",
   "execution_count": 8,
   "id": "dd74cb58-ff86-4fc0-893a-3f531b12f2fa",
   "metadata": {},
   "outputs": [
    {
     "data": {
      "application/json": {
       "andIn": [
        "arrays"
       ],
       "andTrailing": 8675309,
       "backwardsCompatible": "with JSON",
       "hexadecimal": 912559,
       "leadingDecimalPoint": 0.8675309,
       "lineBreaks": "Look, Mom! No \\n's!",
       "positiveSign": 1,
       "singleQuotes": "I can use \"double quotes\" here",
       "trailingComma": "in objects",
       "unquoted": "and you can quote me on that"
      }
     },
     "execution_count": 8,
     "metadata": {},
     "output_type": "execute_result"
    }
   ],
   "source": [
    "json\"\"\"\n",
    "{\n",
    "    // comments\n",
    "    unquoted: 'and you can quote me on that',\n",
    "    singleQuotes: 'I can use \"double quotes\" here',\n",
    "    lineBreaks: \"Look, Mom! \\\n",
    "No \\\\n's!\",\n",
    "    hexadecimal: 0xdecaf,\n",
    "    leadingDecimalPoint: .8675309, andTrailing: 8675309.,\n",
    "    positiveSign: +1,\n",
    "    trailingComma: 'in objects', andIn: ['arrays',],\n",
    "    \"backwardsCompatible\": \"with JSON\",\n",
    "}\n",
    "\"\"\""
   ]
  },
  {
   "cell_type": "markdown",
   "id": "1de89453-584a-4805-9219-647831b4639d",
   "metadata": {},
   "source": [
    "## Html Literal"
   ]
  },
  {
   "cell_type": "code",
   "execution_count": 9,
   "id": "900f7128-3ec0-4d4e-954a-591400f341d7",
   "metadata": {},
   "outputs": [
    {
     "data": {
      "text/html": [
       "\n",
       "<table>\n",
       "    <thead>\n",
       "        <tr>\n",
       "            <th colspan=\"2\">The table header</th>\n",
       "        </tr>\n",
       "    </thead>\n",
       "    <tbody>\n",
       "        <tr>\n",
       "            <td>The table body</td>\n",
       "            <td>with two columns</td>\n",
       "        </tr>\n",
       "    </tbody>\n",
       "</table>\n"
      ]
     },
     "execution_count": 9,
     "metadata": {},
     "output_type": "execute_result"
    }
   ],
   "source": [
    "html\"\"\"\n",
    "<table>\n",
    "    <thead>\n",
    "        <tr>\n",
    "            <th colspan=\"2\">The table header</th>\n",
    "        </tr>\n",
    "    </thead>\n",
    "    <tbody>\n",
    "        <tr>\n",
    "            <td>The table body</td>\n",
    "            <td>with two columns</td>\n",
    "        </tr>\n",
    "    </tbody>\n",
    "</table>\n",
    "\"\"\""
   ]
  },
  {
   "cell_type": "markdown",
   "id": "c296b5ef-f857-4ce5-b491-394c5270306f",
   "metadata": {},
   "source": [
    "## 【TODO】Regular Expression Literal "
   ]
  },
  {
   "cell_type": "code",
   "execution_count": 10,
   "id": "842de085-2f28-46b3-a885-d9b6d198f684",
   "metadata": {},
   "outputs": [
    {
     "data": {
      "application/vnd.jupyter.stderr": "<div class=\"error\">Error: expected value at line 1 column 1</div>"
     },
     "execution_count": 10,
     "metadata": {},
     "output_type": "execute_result"
    }
   ],
   "source": [
    "re\"a\""
   ]
  },
  {
   "cell_type": "markdown",
   "id": "5dff007e-67b8-4f0d-9351-5dc7c27f034a",
   "metadata": {},
   "source": [
    "## 【TODO】Shell Executor\n",
    "\n",
    "vk does not support shell commands starting with `!` and magic commands starting with `%.\n",
    "\n",
    "If you need to use the shell, you can use the form of `sh\"command --args\"`"
   ]
  },
  {
   "cell_type": "code",
   "execution_count": 11,
   "id": "032ce117-2bf7-4622-a5c4-b14b6d4939f8",
   "metadata": {},
   "outputs": [
    {
     "data": {
      "text/plain": [
       "ls"
      ]
     },
     "execution_count": 11,
     "metadata": {},
     "output_type": "execute_result"
    }
   ],
   "source": [
    "sh\"ls\""
   ]
  },
  {
   "cell_type": "markdown",
   "id": "c8586db5-938a-43a0-b98c-d7a20e5fa0fe",
   "metadata": {},
   "source": [
    "# Collections"
   ]
  },
  {
   "cell_type": "markdown",
   "id": "53223fc0-f0cd-4fd4-8278-e71560955b2d",
   "metadata": {
    "tags": []
   },
   "source": [
    "## 【TODO】Table\n",
    "\n",
    "The most basic data structure of vk language is `Table`\n",
    "\n",
    "Table is both a list and a dictionary. If you do not specify any collection type, a `Table` will be created.\n",
    "\n",
    "The literal form of Table is `[ ... ]`\n",
    "\n",
    "\n"
   ]
  },
  {
   "cell_type": "code",
   "execution_count": null,
   "id": "136f27de-3c30-45d0-beb9-c7eff1f067af",
   "metadata": {},
   "outputs": [],
   "source": [
    "# empty table\n",
    "[]\n",
    "# list like table\n",
    "[1, 2, 3]\n",
    "# dict like table\n",
    "[\n",
    "    a: 1, \n",
    "    b: 2,\n",
    "]\n",
    "# mix style table\n",
    "[\n",
    "    1, 2, 3,\n",
    "    a: 1,\n",
    "    b: 2,\n",
    "]"
   ]
  },
  {
   "cell_type": "code",
   "execution_count": null,
   "id": "9997a7ce-e5a8-460f-bea5-f35fe1cf03f4",
   "metadata": {},
   "outputs": [],
   "source": []
  },
  {
   "cell_type": "code",
   "execution_count": null,
   "id": "7f8a853b-2461-4f99-8546-18c22e1f5f93",
   "metadata": {},
   "outputs": [],
   "source": []
  },
  {
   "cell_type": "markdown",
   "id": "921d55ed-5db1-49e9-978c-c08b95df4056",
   "metadata": {},
   "source": [
    "## 【TODO】List & Dict"
   ]
  },
  {
   "cell_type": "code",
   "execution_count": null,
   "id": "a8dec0dc-3099-4b80-ae39-b26560a48f23",
   "metadata": {},
   "outputs": [],
   "source": [
    "List([1, 2, 3])\n",
    "Dict([1, 2, 3])"
   ]
  },
  {
   "cell_type": "code",
   "execution_count": null,
   "id": "4ed49d07-2c69-466a-93fe-e7291326bb55",
   "metadata": {},
   "outputs": [],
   "source": [
    "List([a: 1])\n",
    "Dict([a: 1])"
   ]
  },
  {
   "cell_type": "code",
   "execution_count": null,
   "id": "1611e9b3-cc0d-460d-9ab5-60f635c95688",
   "metadata": {},
   "outputs": [],
   "source": [
    "let list: List = [1, 2, 3];\n",
    "let dict: Dict = [a: 1, b:2, c: 3];"
   ]
  },
  {
   "cell_type": "markdown",
   "id": "0b7d0f18-a433-4458-96e1-ea53a32bb082",
   "metadata": {},
   "source": [
    "## 【TODO】Tuple"
   ]
  },
  {
   "cell_type": "code",
   "execution_count": null,
   "id": "510a6814-e12d-4f16-bb80-a58dcfdd3a2f",
   "metadata": {},
   "outputs": [],
   "source": [
    "()\n",
    "(1,)\n",
    "(1,2)\n",
    "(1, true, \"string\")"
   ]
  },
  {
   "cell_type": "markdown",
   "id": "c9b9bf04-136b-4577-ab1e-d9e44dc9e9ee",
   "metadata": {},
   "source": [
    "## 【TODO】Maps"
   ]
  },
  {
   "cell_type": "code",
   "execution_count": null,
   "id": "e2cbed26-f36c-4385-b813-b3ddcdf202f2",
   "metadata": {},
   "outputs": [],
   "source": [
    "IndexMap([c: 1, b:2, a: 3])\n",
    "OrderMap([c: 1, b:2, a: 3])\n",
    "HashMap([c: 1, b:2, a: 3])"
   ]
  },
  {
   "cell_type": "code",
   "execution_count": null,
   "id": "480122ed-2425-48b3-b4a7-63d362a64e3d",
   "metadata": {},
   "outputs": [],
   "source": []
  },
  {
   "cell_type": "code",
   "execution_count": null,
   "id": "942987c1-90c7-40d0-9444-3a445866c9d7",
   "metadata": {},
   "outputs": [],
   "source": []
  },
  {
   "cell_type": "code",
   "execution_count": null,
   "id": "9123e245-8a35-495f-868f-bd50e80cbd29",
   "metadata": {},
   "outputs": [],
   "source": []
  },
  {
   "cell_type": "markdown",
   "id": "fca277f7-5e61-4035-ab7a-d4ff6d81ddef",
   "metadata": {},
   "source": [
    "## 【TODO】Sets"
   ]
  },
  {
   "cell_type": "code",
   "execution_count": null,
   "id": "2a842689-c5e2-4154-b1e6-5ef03631b2c8",
   "metadata": {},
   "outputs": [],
   "source": [
    "IndexSet([3, 2, 1, 2, 3])\n",
    "OrderSet([3, 2, 1, 2, 3])\n",
    "HashSet([3, 2, 1, 2, 3])"
   ]
  },
  {
   "cell_type": "markdown",
   "id": "3f2850b9-6ed6-4ac4-8e1d-e56d8b3de797",
   "metadata": {},
   "source": [
    "## 【TODO】Bits & Bytes"
   ]
  },
  {
   "cell_type": "code",
   "execution_count": null,
   "id": "776e1076-f813-483e-88e6-ef7570d11385",
   "metadata": {},
   "outputs": [],
   "source": [
    "let bits = BitArray([true, true, false, false])\n",
    "let bytes = ByteArray([0, u8::MIN, u8::MAX])\n",
    "\n",
    "size_of(bits)\n",
    "heap_of(bits)\n",
    "\n",
    "size_of(bytes)\n",
    "heap_of(bytes)"
   ]
  },
  {
   "cell_type": "markdown",
   "id": "2196b8bc-d155-4a4f-889e-ad8695193f86",
   "metadata": {},
   "source": [
    "## 【TODO】NDArray"
   ]
  },
  {
   "cell_type": "markdown",
   "id": "1c64aa51-2787-410b-987e-7636ad8857af",
   "metadata": {},
   "source": [
    "- Array0 is equivalent to `Any`\n",
    "- ArrayView0 is equivalent to `&Any`\n",
    "- Array1 is equivalent to `Vec<Any>`\n",
    "- ArrayView1 is equivalent to `&[Any]`"
   ]
  },
  {
   "cell_type": "code",
   "execution_count": null,
   "id": "1708e449-75d9-46fa-9b9b-7b7e7636842e",
   "metadata": {},
   "outputs": [],
   "source": [
    "Array0\n",
    "ArrayView0\n",
    "Array1\n",
    "ArrayView1\n",
    "Array2\n",
    "ArrayView2"
   ]
  },
  {
   "cell_type": "code",
   "execution_count": null,
   "id": "cf7c48d2-cbc6-4cea-8fd4-186d64ec84b8",
   "metadata": {},
   "outputs": [],
   "source": [
    "new Array(2, 2) {\n",
    "    0, 0,\n",
    "    0, 0,\n",
    "}"
   ]
  },
  {
   "cell_type": "code",
   "execution_count": null,
   "id": "9ea22cab-9244-4ea6-81fd-01edd8ec0be0",
   "metadata": {},
   "outputs": [],
   "source": [
    "@array(2, 2) {\n",
    "    0, 0,\n",
    "    0, 0,\n",
    "}"
   ]
  }
 ],
 "metadata": {
  "kernelspec": {
   "display_name": "Valkyrie",
   "language": "valkyrie",
   "name": "valkyrie"
  },
  "language_info": {
   "codemirror_mode": "rust",
   "file_extension": "*.rs",
   "mimetype": "scala",
   "name": "Valkyrie",
   "nbconvert_exporter": "rust",
   "pygment_lexer": "scala",
   "version": "0.0.0"
  }
 },
 "nbformat": 4,
 "nbformat_minor": 5
}
