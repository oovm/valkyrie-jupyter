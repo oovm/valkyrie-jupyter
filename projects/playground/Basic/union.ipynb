{
 "cells": [
  {
   "cell_type": "markdown",
   "id": "a6072ae7-dd1f-404c-8b6b-d63d21cddb62",
   "metadata": {},
   "source": [
    "# Unions & Variants\n",
    "\n"
   ]
  },
  {
   "cell_type": "markdown",
   "id": "b692889c-21dd-4e05-b025-c2a74448d759",
   "metadata": {},
   "source": [
    "## Tagged Union\n",
    "\n",
    "\n"
   ]
  },
  {
   "cell_type": "code",
   "execution_count": 7,
   "id": "98e8a65c-9214-400b-a847-7fee826dca33",
   "metadata": {},
   "outputs": [
    {
     "data": {
      "application/vnd.jupyter.stderr": "<div class=\"error\">Expect EOF, found:\n: !Display + !Debug {\n    @structure\n    Ok {\n        fine: T\n    }\n    @structure\n    Error {\n        oops: E\n    }\n}</div>"
     },
     "execution_count": 7,
     "metadata": {},
     "output_type": "execute_result"
    }
   ],
   "source": [
    "union Result<T, E>: !Display + !Debug {\n",
    "    @structure\n",
    "    Ok {\n",
    "        fine: T\n",
    "    }\n",
    "    @structure\n",
    "    Error {\n",
    "        oops: E\n",
    "    }\n",
    "}"
   ]
  },
  {
   "cell_type": "markdown",
   "id": "16fa416d-563d-404a-b5cc-381f2ee1f887",
   "metadata": {
    "tags": []
   },
   "source": [
    "## Extends Union with Interfaces"
   ]
  },
  {
   "cell_type": "code",
   "execution_count": 2,
   "id": "97bbae59-0d2c-4157-a6b8-c7f54f7267c0",
   "metadata": {},
   "outputs": [
    {
     "data": {
      "application/vnd.jupyter.stderr": "<div class=\"error\">Expect EOF, found:\n: Display + Debug {\n\n}</div>"
     },
     "execution_count": 2,
     "metadata": {},
     "output_type": "execute_result"
    }
   ],
   "source": [
    "extends<T, E> Result<T, E>: Display + Debug {\n",
    "\n",
    "}"
   ]
  },
  {
   "cell_type": "markdown",
   "id": "0133eaab-9b4e-47d4-ab2f-1b279dc05730",
   "metadata": {},
   "source": [
    "## Extends Variants with methods"
   ]
  },
  {
   "cell_type": "code",
   "execution_count": 11,
   "id": "c913718c-fcc3-4798-bad4-da71b5ee7f05",
   "metadata": {},
   "outputs": [
    {
     "data": {
      "application/vnd.jupyter.stderr": "<div class=\"error\">Expect EOF, found:\n::Ok: Constructor {\n    construct(value: T) {\n        new Self::Ok { fine: T }\n    }\n}</div>"
     },
     "execution_count": 11,
     "metadata": {},
     "output_type": "execute_result"
    }
   ],
   "source": [
    "extends<T, E> Result<T, E>::Ok: Constructor {\n",
    "    construct(value: T) {\n",
    "        new Self::Ok { fine: T }\n",
    "    }\n",
    "}"
   ]
  },
  {
   "cell_type": "code",
   "execution_count": 12,
   "id": "8d7230e5-913f-457a-b819-78d86d16dbec",
   "metadata": {},
   "outputs": [
    {
     "data": {
      "application/vnd.jupyter.stderr": "<div class=\"error\">Expect EOF, found:\n: Display + Debug {\n\n}</div>"
     },
     "execution_count": 12,
     "metadata": {},
     "output_type": "execute_result"
    }
   ],
   "source": [
    "extends<T, E> Result<T, E>: Display + Debug {\n",
    "\n",
    "}"
   ]
  },
  {
   "cell_type": "markdown",
   "id": "646474ed-b2c9-4eea-bfc1-96a77f816a5b",
   "metadata": {},
   "source": [
    "## Generic Class"
   ]
  },
  {
   "cell_type": "code",
   "execution_count": 14,
   "id": "4b61847f-159d-4a05-bc9c-fc782c07f2a1",
   "metadata": {},
   "outputs": [
    {
     "data": {
      "application/vnd.jupyter.stderr": "<div class=\"error\">Expect EOF, found:\n{\n    x: T;\n    y: T;\n}</div>"
     },
     "execution_count": 14,
     "metadata": {},
     "output_type": "execute_result"
    }
   ],
   "source": [
    "class Point<T> {\n",
    "    x: T;\n",
    "    y: T;\n",
    "}"
   ]
  },
  {
   "cell_type": "code",
   "execution_count": null,
   "id": "9123e245-8a35-495f-868f-bd50e80cbd29",
   "metadata": {},
   "outputs": [],
   "source": []
  }
 ],
 "metadata": {
  "kernelspec": {
   "display_name": "Valkyrie",
   "language": "valkyrie",
   "name": "valkyrie"
  },
  "language_info": {
   "codemirror_mode": "rust",
   "file_extension": "*.rs",
   "mimetype": "scala",
   "name": "Valkyrie",
   "nbconvert_exporter": "rust",
   "pygment_lexer": "scala",
   "version": "0.0.0"
  }
 },
 "nbformat": 4,
 "nbformat_minor": 5
}
