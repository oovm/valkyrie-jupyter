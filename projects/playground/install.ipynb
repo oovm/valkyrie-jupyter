{
 "cells": [
  {
   "cell_type": "code",
   "execution_count": null,
   "metadata": {
    "vscode": {
     "languageId": "python"
    }
   },
   "outputs": [],
   "source": [
    "!wget \"https:/github\"\n"
   ]
  }
 ],
 "metadata": {
  "kernelspec": {
   "display_name": "Rhai",
   "language": "rhai",
   "name": "rhai"
  },
  "language_info": {
   "name": "rhai"
  },
  "orig_nbformat": 4
 },
 "nbformat": 4,
 "nbformat_minor": 2
}
