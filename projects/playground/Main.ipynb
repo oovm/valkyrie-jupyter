{
 "cells": [
  {
   "cell_type": "markdown",
   "id": "f3804793-f1cc-49c8-8bf2-58ea9442f855",
   "metadata": {
    "tags": []
   },
   "source": [
    "# Literals\n",
    "\n",
    "The current `vk` language has three literals: **numbers**, **booleans**, and **strings**"
   ]
  },
  {
   "cell_type": "code",
   "execution_count": 13,
   "id": "8645cc1f-e440-4189-b221-fa10a855a6fc",
   "metadata": {},
   "outputs": [
    {
     "data": {
      "text/html": [
       "<span class=\"color: oriange\">0</span>"
      ]
     },
     "execution_count": 13,
     "metadata": {},
     "output_type": "execute_result"
    },
    {
     "data": {
      "text/html": [
       "<span style=\"color: pink\">true</span>"
      ]
     },
     "execution_count": 13,
     "metadata": {},
     "output_type": "execute_result"
    },
    {
     "data": {
      "text/html": [
       "<span style=\"color: pink\">false</span>"
      ]
     },
     "execution_count": 13,
     "metadata": {},
     "output_type": "execute_result"
    },
    {
     "data": {
      "text/plain": [
       "string"
      ]
     },
     "execution_count": 13,
     "metadata": {},
     "output_type": "execute_result"
    },
    {
     "data": {
      "text/plain": [
       "string\\nnewline"
      ]
     },
     "execution_count": 13,
     "metadata": {},
     "output_type": "execute_result"
    }
   ],
   "source": [
    "0\n",
    "true\n",
    "false\n",
    "'string'\n",
    "\"string\""
   ]
  },
  {
   "cell_type": "markdown",
   "id": "357665ca-be5a-4cb2-8f03-507ac96f5716",
   "metadata": {},
   "source": [
    "## Raw Literal"
   ]
  },
  {
   "cell_type": "code",
   "execution_count": 14,
   "id": "171a1443-c72d-4995-b83d-07e71f5b87cc",
   "metadata": {},
   "outputs": [
    {
     "data": {
      "text/plain": [
       "line    \\n   other line"
      ]
     },
     "execution_count": 14,
     "metadata": {},
     "output_type": "execute_result"
    },
    {
     "data": {
      "text/html": [
       "<span style=\"color: red\">Error: Undefined symbol: r</span>"
      ]
     },
     "execution_count": 14,
     "metadata": {},
     "output_type": "execute_result"
    },
    {
     "data": {
      "text/plain": [
       "line    \\n   other line"
      ]
     },
     "execution_count": 14,
     "metadata": {},
     "output_type": "execute_result"
    }
   ],
   "source": [
    "\"line    \\n   other line\"\n",
    "r\"line    \\n   other line\""
   ]
  },
  {
   "cell_type": "markdown",
   "id": "ab2b0cf8-de11-4ee8-9aed-9096cf1f4a89",
   "metadata": {},
   "source": [
    "## Json Literal\n",
    "\n",
    "TODO: support json literal"
   ]
  },
  {
   "cell_type": "code",
   "execution_count": 8,
   "id": "b9e71bd7-2bda-4653-a2fd-e71740091192",
   "metadata": {},
   "outputs": [
    {
     "data": {
      "text/html": [
       "<span style=\"color: red\">Error: Undefined symbol: json</span>"
      ]
     },
     "execution_count": 8,
     "metadata": {},
     "output_type": "execute_result"
    },
    {
     "data": {
      "text/plain": [
       "\n",
       "{\n",
       "    a: 2\n",
       "}\n"
      ]
     },
     "execution_count": 8,
     "metadata": {},
     "output_type": "execute_result"
    },
    {
     "data": {
      "text/html": [
       "<span style=\"color: red\">Error: Undefined symbol: json</span>"
      ]
     },
     "execution_count": 8,
     "metadata": {},
     "output_type": "execute_result"
    },
    {
     "data": {
      "text/plain": [
       "\n",
       "{\"a\": 2}\n"
      ]
     },
     "execution_count": 8,
     "metadata": {},
     "output_type": "execute_result"
    }
   ],
   "source": [
    "json\"\n",
    "{\n",
    "    a: 2\n",
    "}\n",
    "\"\n",
    "\n",
    "json\"\"\"\n",
    "{\"a\": 2}\n",
    "\"\"\""
   ]
  },
  {
   "cell_type": "markdown",
   "id": "4819acd3-ea0a-4d24-8615-9639553abc10",
   "metadata": {},
   "source": [
    "TODO: support Regex literal"
   ]
  },
  {
   "cell_type": "code",
   "execution_count": 11,
   "id": "37e739a4-703e-4f7c-962b-2f95a9cd5fd6",
   "metadata": {},
   "outputs": [],
   "source": [
    "## Regular Expression Literal"
   ]
  },
  {
   "cell_type": "code",
   "execution_count": 9,
   "id": "842de085-2f28-46b3-a885-d9b6d198f684",
   "metadata": {},
   "outputs": [
    {
     "data": {
      "text/html": [
       "<span style=\"color: red\">Error: Undefined symbol: re</span>"
      ]
     },
     "execution_count": 9,
     "metadata": {},
     "output_type": "execute_result"
    },
    {
     "data": {
      "text/plain": [
       "a"
      ]
     },
     "execution_count": 9,
     "metadata": {},
     "output_type": "execute_result"
    }
   ],
   "source": [
    "re\"a\""
   ]
  },
  {
   "cell_type": "code",
   "execution_count": null,
   "id": "136f27de-3c30-45d0-beb9-c7eff1f067af",
   "metadata": {},
   "outputs": [],
   "source": []
  },
  {
   "cell_type": "markdown",
   "id": "a6072ae7-dd1f-404c-8b6b-d63d21cddb62",
   "metadata": {},
   "source": [
    "# Let Binding\n",
    "\n",
    "Use `let` to define constants, `let mut` to define variables"
   ]
  },
  {
   "cell_type": "code",
   "execution_count": 1,
   "id": "98e8a65c-9214-400b-a847-7fee826dca33",
   "metadata": {},
   "outputs": [
    {
     "data": {
      "text/html": [
       "<span class=\"color: oriange\">1</span>"
      ]
     },
     "execution_count": 1,
     "metadata": {},
     "output_type": "execute_result"
    },
    {
     "data": {
      "text/plain": [
       "'string'"
      ]
     },
     "execution_count": 1,
     "metadata": {},
     "output_type": "execute_result"
    },
    {
     "data": {
      "text/html": [
       "<span style=\"color: pink\">true</span>"
      ]
     },
     "execution_count": 1,
     "metadata": {},
     "output_type": "execute_result"
    }
   ],
   "source": [
    "let a = 1\n",
    "let mut b = \"string\"\n",
    "let final c = true"
   ]
  },
  {
   "cell_type": "markdown",
   "id": "16fa416d-563d-404a-b5cc-381f2ee1f887",
   "metadata": {},
   "source": [
    "Use `;` to mask the output of a `let` statement.\n",
    "\n",
    "Note that rebinding of `let` overrides previous definitions, even if the variable is an immutable constant.\n",
    "\n",
    "> *Perhaps an additional mechanism is needed to protect variables*"
   ]
  },
  {
   "cell_type": "code",
   "execution_count": 2,
   "id": "97bbae59-0d2c-4157-a6b8-c7f54f7267c0",
   "metadata": {},
   "outputs": [
    {
     "data": {
      "text/html": [
       "<span style=\"color: red\">Error: Variable c can't rebind</span>"
      ]
     },
     "execution_count": 2,
     "metadata": {},
     "output_type": "execute_result"
    }
   ],
   "source": [
    "let a = 2;\n",
    "let c = 2;"
   ]
  },
  {
   "cell_type": "markdown",
   "id": "7738568e-35a2-4ad0-a80e-fea8d322ed62",
   "metadata": {},
   "source": [
    "Enter the variable name to get the value of the variable binding\n",
    "\n",
    "Undefined variables will report an error"
   ]
  },
  {
   "cell_type": "code",
   "execution_count": 3,
   "id": "d32b32ad-1a3b-40bc-8fe1-93078b80c356",
   "metadata": {},
   "outputs": [
    {
     "data": {
      "text/html": [
       "<span class=\"color: oriange\">2</span>"
      ]
     },
     "execution_count": 3,
     "metadata": {},
     "output_type": "execute_result"
    },
    {
     "data": {
      "text/html": [
       "<span style=\"color: red\">Error: Undefined symbol: k</span>"
      ]
     },
     "execution_count": 3,
     "metadata": {},
     "output_type": "execute_result"
    }
   ],
   "source": [
    "a\n",
    "k"
   ]
  },
  {
   "cell_type": "code",
   "execution_count": null,
   "id": "27b6baaa-9142-4ea5-8578-b9f15143ee74",
   "metadata": {},
   "outputs": [],
   "source": []
  }
 ],
 "metadata": {
  "kernelspec": {
   "display_name": "Valkyrie",
   "language": "valkyrie",
   "name": "valkyrie"
  },
  "language_info": {
   "codemirror_mode": "rust",
   "file_extension": "*.rs",
   "mimetype": "scala",
   "name": "Valkyrie",
   "nbconvert_exporter": "rust",
   "pygment_lexer": "scala",
   "version": "0.0.0"
  }
 },
 "nbformat": 4,
 "nbformat_minor": 5
}
