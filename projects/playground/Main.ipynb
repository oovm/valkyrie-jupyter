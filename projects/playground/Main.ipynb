{
 "cells": [
  {
   "cell_type": "markdown",
   "id": "f3804793-f1cc-49c8-8bf2-58ea9442f855",
   "metadata": {
    "tags": []
   },
   "source": [
    "# Table of contents\n",
    "\n",
    "\n"
   ]
  },
  {
   "cell_type": "markdown",
   "id": "8eaadd94-e9eb-40a2-a377-b2051dda88d4",
   "metadata": {
    "tags": []
   },
   "source": [
    "## Online Playground\n",
    "\n",
    "### Binder\n",
    "\n",
    "[![Binder](https://mybinder.org/badge_logo.svg)](https://mybinder.org/v2/gh/nyar-vm/valkyrie-jupyter/dev?labpath=playground%2FMain.ipynb)\n",
    "\n",
    "\n",
    "### Install\n",
    "\n",
    "\n",
    "For rust user\n",
    "\n",
    "```sh\n",
    "cargo install --\n",
    "valkyrie-jupyter install\n",
    "\n",
    "```\n",
    "\n"
   ]
  },
  {
   "cell_type": "markdown",
   "id": "e5114ecc-6439-4fe5-90b2-e456709bbaa5",
   "metadata": {},
   "source": [
    "## Basic Tutorial\n",
    "\n",
    "### [Literals](./Literals.ipynb)\n",
    "\n",
    "simple literal\n",
    "\n",
    "### [LetBinding](./LetBinding.ipynb)\n",
    "\n",
    "\n"
   ]
  },
  {
   "cell_type": "markdown",
   "id": "6c2d226b-e773-4937-8ade-1710aa395630",
   "metadata": {},
   "source": [
    "## Advanced Tutorial"
   ]
  },
  {
   "cell_type": "code",
   "execution_count": null,
   "id": "c2476439-4e6b-43bc-87c5-c0a2aa7017c1",
   "metadata": {},
   "outputs": [],
   "source": []
  }
 ],
 "metadata": {
  "kernelspec": {
   "display_name": "Valkyrie",
   "language": "valkyrie",
   "name": "valkyrie"
  },
  "language_info": {
   "codemirror_mode": "rust",
   "file_extension": "*.rs",
   "mimetype": "scala",
   "name": "Valkyrie",
   "nbconvert_exporter": "rust",
   "pygment_lexer": "scala",
   "version": "0.0.0"
  }
 },
 "nbformat": 4,
 "nbformat_minor": 5
}
