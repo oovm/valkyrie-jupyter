{
 "cells": [
  {
   "cell_type": "markdown",
   "id": "f3804793-f1cc-49c8-8bf2-58ea9442f855",
   "metadata": {
    "tags": []
   },
   "source": [
    "# Table of contents\n",
    "\n",
    "## Basic\n",
    "\n",
    "### [Literals](./Literals.ipynb)\n",
    "\n",
    "simple literal\n",
    "\n",
    "### [LetBinding](./LetBinding.ipynb)\n",
    "\n"
   ]
  }
 ],
 "metadata": {
  "kernelspec": {
   "display_name": "Valkyrie",
   "language": "valkyrie",
   "name": "valkyrie"
  },
  "language_info": {
   "codemirror_mode": "rust",
   "file_extension": "*.rs",
   "mimetype": "scala",
   "name": "Valkyrie",
   "nbconvert_exporter": "rust",
   "pygment_lexer": "scala",
   "version": "0.0.0"
  }
 },
 "nbformat": 4,
 "nbformat_minor": 5
}
