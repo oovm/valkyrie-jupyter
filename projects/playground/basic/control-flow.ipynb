{
 "cells": [
  {
   "cell_type": "markdown",
   "id": "37800c12-a21e-47ae-bda0-f5f21f8130a9",
   "metadata": {},
   "source": [
    "## If Statements"
   ]
  },
  {
   "cell_type": "code",
   "execution_count": null,
   "id": "7dac9616-4246-4501-9ec7-c72c4d58318a",
   "metadata": {},
   "outputs": [],
   "source": [
    "let a = 10;\n",
    "if a > 10 {\n",
    "    2\n",
    "}"
   ]
  },
  {
   "cell_type": "code",
   "execution_count": null,
   "id": "9cef90e3-10da-4ad9-8bb2-0a1b5710c57d",
   "metadata": {},
   "outputs": [],
   "source": [
    "let a = 10;\n",
    "if a > 10 {\n",
    "    1\n",
    "}\n",
    "else {\n",
    "    2\n",
    "}"
   ]
  },
  {
   "cell_type": "code",
   "execution_count": null,
   "id": "aab400e3-d276-4414-a16d-6a583689caba",
   "metadata": {},
   "outputs": [],
   "source": [
    "let a = 10;\n",
    "if a > 10 {\n",
    "    1\n",
    "}\n",
    "else if a > 5 {\n",
    "\n",
    "}\n",
    "else {\n",
    "    2\n",
    "}"
   ]
  },
  {
   "cell_type": "markdown",
   "id": "b82a810c-39dd-4610-8ab3-5ffb080cab4d",
   "metadata": {},
   "source": [
    "## While Loop Statements\n",
    "\n",
    "Unconditional loop"
   ]
  },
  {
   "cell_type": "code",
   "execution_count": null,
   "id": "418bd924-fd87-4d98-9e58-330b2f9db659",
   "metadata": {},
   "outputs": [],
   "source": [
    "let a = 10;\n",
    "while {\n",
    "    print(1);\n",
    "    break;\n",
    "    print(2);\n",
    "}"
   ]
  },
  {
   "cell_type": "markdown",
   "id": "72881caa-a14e-4afd-9cd5-94a74a0da559",
   "metadata": {},
   "source": [
    "While 可以带循环条件"
   ]
  },
  {
   "cell_type": "code",
   "execution_count": null,
   "id": "c610a2dc-165f-4d09-8c8c-8e3162e868c6",
   "metadata": {},
   "outputs": [],
   "source": [
    "let a = 10;\n",
    "while a > 0 {\n",
    "    a -= 1;\n",
    "    print(a);\n",
    "}"
   ]
  },
  {
   "cell_type": "markdown",
   "id": "36e70e36-e7f0-4fff-81bc-4dfe52a3888d",
   "metadata": {},
   "source": [
    "While 可以带未触发语句"
   ]
  },
  {
   "cell_type": "code",
   "execution_count": null,
   "id": "66a51f76-cafc-4ad6-92ac-b4ca2f1b2b08",
   "metadata": {},
   "outputs": [],
   "source": [
    "let a = 0;\n",
    "while a > 5 {\n",
    "    a -= 1;\n",
    "    print(a);\n",
    "}\n",
    "else {\n",
    "\n",
    "}"
   ]
  },
  {
   "cell_type": "markdown",
   "id": "dcfb5da5-bcad-416e-92f3-73d7062b9978",
   "metadata": {},
   "source": [
    "While 支持模式匹配"
   ]
  },
  {
   "cell_type": "code",
   "execution_count": null,
   "id": "8f02ddcc-1dff-41fd-bbf9-e9ffff7cc4ae",
   "metadata": {},
   "outputs": [],
   "source": [
    "let expr = Some(5)\n",
    "while case Some(t) = expr {\n",
    "\n",
    "}\n"
   ]
  },
  {
   "cell_type": "markdown",
   "id": "ff4a84ef-ebc1-4d85-8ca0-ed8c937b9e4d",
   "metadata": {},
   "source": [
    "## For Loop Statement"
   ]
  },
  {
   "cell_type": "code",
   "execution_count": null,
   "id": "79e53e73-e837-4cf5-b98e-77b974fda783",
   "metadata": {},
   "outputs": [],
   "source": [
    "for i in [1, 2, 3] {\n",
    "\n",
    "}"
   ]
  },
  {
   "cell_type": "code",
   "execution_count": null,
   "id": "21bae488-a903-48d4-a61c-38d820399100",
   "metadata": {},
   "outputs": [],
   "source": []
  },
  {
   "cell_type": "code",
   "execution_count": null,
   "id": "f0b1bad9-e2cb-4ab0-96c7-e6445d59cd0b",
   "metadata": {},
   "outputs": [],
   "source": [
    "let list = Range(1, 9)\n",
    "for i in list if i > 2 {\n",
    "\n",
    "}"
   ]
  },
  {
   "cell_type": "code",
   "execution_count": null,
   "id": "b4d9b8c9-4b6c-4e9f-be58-4a43a46ac66e",
   "metadata": {},
   "outputs": [],
   "source": []
  },
  {
   "cell_type": "code",
   "execution_count": null,
   "id": "b37fd00a-ce56-4fd4-9355-fe39c02d8d15",
   "metadata": {},
   "outputs": [],
   "source": [
    "let list = Range(1, 9)\n",
    "for i in list if i > 10 {\n",
    "\n",
    "}\n",
    "else {\n",
    "    \n",
    "}"
   ]
  },
  {
   "cell_type": "code",
   "execution_count": null,
   "id": "180fb922-6ac5-4cae-8399-0aee3c4b6104",
   "metadata": {},
   "outputs": [],
   "source": []
  },
  {
   "cell_type": "code",
   "execution_count": null,
   "id": "1a335bd2-36b6-4ce6-b961-f2d2c94badaa",
   "metadata": {},
   "outputs": [],
   "source": []
  },
  {
   "cell_type": "code",
   "execution_count": null,
   "id": "f0597611-0359-4fe3-bb9c-1c00c91034aa",
   "metadata": {},
   "outputs": [],
   "source": [
    "let dict: Dict = [a: 1, b: 2, c: 3];\n",
    "for k, v in dict {\n",
    "\n",
    "}\n",
    "for (k, v) in dict {\n",
    "\n",
    "}"
   ]
  },
  {
   "cell_type": "code",
   "execution_count": null,
   "id": "2179fa7b-999e-46bd-a921-85ffae9c6989",
   "metadata": {},
   "outputs": [],
   "source": [
    "\n",
    "\n",
    "\n"
   ]
  }
 ],
 "metadata": {
  "kernelspec": {
   "display_name": "Valkyrie",
   "language": "valkyrie",
   "name": "valkyrie"
  },
  "language_info": {
   "codemirror_mode": "rust",
   "file_extension": "*.rs",
   "mimetype": "scala",
   "name": "Valkyrie",
   "nbconvert_exporter": "rust",
   "pygment_lexer": "scala",
   "version": "0.0.0"
  }
 },
 "nbformat": 4,
 "nbformat_minor": 5
}
