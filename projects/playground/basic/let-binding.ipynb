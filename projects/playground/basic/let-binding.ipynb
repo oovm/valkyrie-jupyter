{
 "cells": [
  {
   "cell_type": "markdown",
   "id": "a6072ae7-dd1f-404c-8b6b-d63d21cddb62",
   "metadata": {},
   "source": [
    "# Let binding\n",
    "\n",
    "Use `let` to define constants, `let mut` to define variables, use `;` to mask the output of a `let` statement."
   ]
  },
  {
   "cell_type": "code",
   "execution_count": 5,
   "id": "d32b32ad-1a3b-40bc-8fe1-93078b80c356",
   "metadata": {},
   "outputs": [
    {
     "data": {
      "text/html": [
       "<span style=\"color: #986801\">1</span>"
      ]
     },
     "execution_count": 5,
     "metadata": {},
     "output_type": "execute_result"
    },
    {
     "data": {
      "text/html": [
       "<span style=\"color: #986801\">1</span>"
      ]
     },
     "execution_count": 6,
     "metadata": {},
     "output_type": "execute_result"
    }
   ],
   "source": [
    "let a = 1;\n",
    "let mut ma = 1;"
   ]
  },
  {
   "cell_type": "code",
   "execution_count": 9,
   "id": "27b6baaa-9142-4ea5-8578-b9f15143ee74",
   "metadata": {},
   "outputs": [],
   "source": [
    "a = 2\n",
    "ma = 2"
   ]
  },
  {
   "cell_type": "markdown",
   "id": "15394c27-7181-4071-adb8-690598f83a56",
   "metadata": {},
   "source": [
    "`protect` is used to prevent accidental overwriting of variables defined."
   ]
  },
  {
   "cell_type": "code",
   "execution_count": 3,
   "id": "98e8a65c-9214-400b-a847-7fee826dca33",
   "metadata": {},
   "outputs": [
    {
     "data": {
      "text/html": [
       "<span style=\"color: #986801\">1</span>"
      ]
     },
     "execution_count": 3,
     "metadata": {},
     "output_type": "execute_result"
    },
    {
     "data": {
      "text/html": [
       "<span style=\"color: #986801\">1</span>"
      ]
     },
     "execution_count": 4,
     "metadata": {},
     "output_type": "execute_result"
    }
   ],
   "source": [
    "let b = 1\n",
    "let protect pb = 1;"
   ]
  },
  {
   "cell_type": "markdown",
   "id": "16fa416d-563d-404a-b5cc-381f2ee1f887",
   "metadata": {},
   "source": [
    "Note that rebinding of `let` overrides previous definitions, even if the variable is an immutable constant."
   ]
  },
  {
   "cell_type": "code",
   "execution_count": 7,
   "id": "97bbae59-0d2c-4157-a6b8-c7f54f7267c0",
   "metadata": {},
   "outputs": [
    {
     "data": {
      "text/html": [
       "<span style=\"color: #986801\">2</span>"
      ]
     },
     "execution_count": 7,
     "metadata": {},
     "output_type": "execute_result"
    },
    {
     "data": {
      "text/html": [
       "<span style=\"color: #986801\">2</span>"
      ]
     },
     "execution_count": 8,
     "metadata": {},
     "output_type": "execute_result"
    }
   ],
   "source": [
    "let b = 2;\n",
    "let pb = 2;"
   ]
  },
  {
   "cell_type": "markdown",
   "id": "7738568e-35a2-4ad0-a80e-fea8d322ed62",
   "metadata": {},
   "source": [
    "Enter the variable name to get the value of the variable binding\n",
    "\n",
    "Undefined variables will report an error"
   ]
  },
  {
   "cell_type": "markdown",
   "id": "646474ed-b2c9-4eea-bfc1-96a77f816a5b",
   "metadata": {},
   "source": [
    "## Pattern Match"
   ]
  },
  {
   "cell_type": "markdown",
   "id": "c1b6f28d-8c37-4e71-80f4-4b7ea5c30d6e",
   "metadata": {},
   "source": [
    "### Plain Pattern\n",
    "\n",
    "Simple mode for quickly declaring multiple simple variables"
   ]
  },
  {
   "cell_type": "code",
   "execution_count": 16,
   "id": "4b61847f-159d-4a05-bc9c-fc782c07f2a1",
   "metadata": {},
   "outputs": [
    {
     "data": {
      "application/vnd.jupyter.stderr": "Error: Tuple patterns are not yet supported"
     },
     "execution_count": 16,
     "metadata": {},
     "output_type": "execute_result"
    },
    {
     "data": {
      "application/vnd.jupyter.stderr": "Error: Tuple patterns are not yet supported"
     },
     "execution_count": 17,
     "metadata": {},
     "output_type": "execute_result"
    }
   ],
   "source": [
    "let a, b = (1, 2);\n",
    "let a, mut b, protect c = (1, 2, 3);"
   ]
  },
  {
   "cell_type": "markdown",
   "id": "ad9c04a4-5be5-477a-9871-44dc027ed213",
   "metadata": {},
   "source": [
    "### Tuple Pattern\n",
    "\n",
    "Nesting is allowed, used to structure complex objects"
   ]
  },
  {
   "cell_type": "code",
   "execution_count": null,
   "id": "e0788c7a-d3a6-4c96-8e30-e41b4de8e7fe",
   "metadata": {},
   "outputs": [],
   "source": [
    "let (a, b) = (1, 2);\n",
    "let (a, b, c) = (1, 2, 3);\n",
    "let (a, (b, c)) = (1, (2, 3));"
   ]
  },
  {
   "cell_type": "code",
   "execution_count": null,
   "id": "9123e245-8a35-495f-868f-bd50e80cbd29",
   "metadata": {},
   "outputs": [],
   "source": []
  }
 ],
 "metadata": {
  "kernelspec": {
   "display_name": "Valkyrie",
   "language": "valkyrie",
   "name": "valkyrie"
  },
  "language_info": {
   "codemirror_mode": "rust",
   "file_extension": "*.rs",
   "mimetype": "scala",
   "name": "Valkyrie",
   "nbconvert_exporter": "rust",
   "pygment_lexer": "scala",
   "version": "0.0.0"
  }
 },
 "nbformat": 4,
 "nbformat_minor": 5
}
