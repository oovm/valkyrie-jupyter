{
 "cells": [
  {
   "cell_type": "markdown",
   "id": "a6072ae7-dd1f-404c-8b6b-d63d21cddb62",
   "metadata": {},
   "source": [
    "# Interfaces & Traits\n",
    "\n",
    "Both traits and interfaces indicate that a class satisfies certain constraints.\n",
    "\n",
    "The difference is that `interface` does not need to be reimplemented after inheritance, but `trait` needs to be reimplemented by child class.\n",
    "\n",
    "Generally speaking, if an interface touches all fields of the class, then it is a `trait`, such as `Debug`, `Encode`, `Decode`.\n",
    "\n",
    "If the interface only involves the certain few fields, and will not add after inherit, then it is an `interface`, such as `Iterator`;"
   ]
  },
  {
   "cell_type": "markdown",
   "id": "b692889c-21dd-4e05-b025-c2a74448d759",
   "metadata": {},
   "source": [
    "## Simple Class\n",
    "\n",
    "Use `let` to define constants, `let mut` to define variables, use `;` to mask the output of a `let` statement.\n",
    "\n",
    "final 用于防止意外覆盖上文中的变量"
   ]
  },
  {
   "cell_type": "code",
   "execution_count": null,
   "id": "98e8a65c-9214-400b-a847-7fee826dca33",
   "metadata": {},
   "outputs": [],
   "source": [
    "trait A {\n",
    "\n",
    "}\n",
    "interface B {\n",
    "\n",
    "}"
   ]
  },
  {
   "cell_type": "markdown",
   "id": "16fa416d-563d-404a-b5cc-381f2ee1f887",
   "metadata": {},
   "source": [
    "Note that rebinding of `let` overrides previous definitions, even if the variable is an immutable constant."
   ]
  },
  {
   "cell_type": "code",
   "execution_count": 7,
   "id": "97bbae59-0d2c-4157-a6b8-c7f54f7267c0",
   "metadata": {},
   "outputs": [
    {
     "data": {
      "application/vnd.jupyter.stderr": "<div class=\"error\">Expect EOF, found:\n: Display {\n\n}</div>"
     },
     "execution_count": 7,
     "metadata": {},
     "output_type": "execute_result"
    }
   ],
   "source": [
    "extends ClassName: Display {\n",
    "\n",
    "}"
   ]
  },
  {
   "cell_type": "markdown",
   "id": "646474ed-b2c9-4eea-bfc1-96a77f816a5b",
   "metadata": {},
   "source": [
    "## Generic Class"
   ]
  },
  {
   "cell_type": "code",
   "execution_count": 9,
   "id": "4b61847f-159d-4a05-bc9c-fc782c07f2a1",
   "metadata": {},
   "outputs": [
    {
     "data": {
      "application/vnd.jupyter.stderr": "<div class=\"error\">Expect EOF, found:\n{\n    x: T;\n    y: T;\n}</div>"
     },
     "execution_count": 9,
     "metadata": {},
     "output_type": "execute_result"
    }
   ],
   "source": [
    "class Point<T> {\n",
    "    x: T;\n",
    "    y: T;\n",
    "}"
   ]
  },
  {
   "cell_type": "code",
   "execution_count": null,
   "id": "9123e245-8a35-495f-868f-bd50e80cbd29",
   "metadata": {},
   "outputs": [],
   "source": []
  }
 ],
 "metadata": {
  "kernelspec": {
   "display_name": "Valkyrie",
   "language": "valkyrie",
   "name": "valkyrie"
  },
  "language_info": {
   "codemirror_mode": "rust",
   "file_extension": "*.rs",
   "mimetype": "scala",
   "name": "Valkyrie",
   "nbconvert_exporter": "rust",
   "pygment_lexer": "scala",
   "version": "0.0.0"
  }
 },
 "nbformat": 4,
 "nbformat_minor": 5
}
