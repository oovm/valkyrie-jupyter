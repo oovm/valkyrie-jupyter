{
 "cells": [
  {
   "attachments": {},
   "cell_type": "markdown",
   "id": "a6072ae7-dd1f-404c-8b6b-d63d21cddb62",
   "metadata": {},
   "source": [
    "# Null Safety\n",
    "\n",
    "Generally speaking, there is no real `null` in the vk language, A similar concept is `Option`.\n",
    "\n",
    "Option is a monad, which means that the value may or may not exist. \n",
    "\n",
    "Since this type is so common, `T?` can be used as a shorthand for `Option<T>`\n",
    "\n",
    "For convenience, the standard library also exports:"
   ]
  },
  {
   "cell_type": "code",
   "execution_count": null,
   "id": "8424d9be",
   "metadata": {},
   "outputs": [],
   "source": [
    "@static\n",
    "let null: Any? = None();"
   ]
  },
  {
   "attachments": {},
   "cell_type": "markdown",
   "id": "b692889c-21dd-4e05-b025-c2a74448d759",
   "metadata": {},
   "source": [
    "## Fast Raise Operator\n",
    "\n",
    "在 vk 中可以对所有有偏 Monadic 对象调用 `!`\n",
    "\n",
    "! 的正式名为 Fast Raise Operator, `!` 不可重载."
   ]
  },
  {
   "attachments": {},
   "cell_type": "markdown",
   "id": "15de9c4c",
   "metadata": {},
   "source": [
    "对于 `Option<T>` 类型, 使用 ! 快速抛出一个 `NoneError<T>` 异常, 该异常会自动被类型为 `Option<T>` 的 Handler 吸收."
   ]
  },
  {
   "cell_type": "code",
   "execution_count": null,
   "id": "a97c1777",
   "metadata": {},
   "outputs": [],
   "source": [
    "let a = Some(0);\n",
    "a.match {\n",
    "    case Some(s): s\n",
    "    case None   : raise NoneError()\n",
    "}"
   ]
  },
  {
   "attachments": {},
   "cell_type": "markdown",
   "id": "97f401cd",
   "metadata": {},
   "source": [
    "对于 `Result<T, E1>` 类型, 使用 ! 快速抛出一个类型为 `E` 的异常, 该异常会自动被类型为 `Result<T, E2>` 的 Handler 吸收, 其中 `E2: From<E1>`"
   ]
  },
  {
   "cell_type": "code",
   "execution_count": null,
   "id": "51855a0c",
   "metadata": {},
   "outputs": [],
   "source": [
    "let a = Success(0);\n",
    "a.match {\n",
    "    case Success(s): s\n",
    "    case Failure(e): raise e\n",
    "}"
   ]
  },
  {
   "attachments": {},
   "cell_type": "markdown",
   "id": "6bf062cf",
   "metadata": {},
   "source": [
    "## Monadic Coalesce Operator"
   ]
  },
  {
   "attachments": {},
   "cell_type": "markdown",
   "id": "57b964d3",
   "metadata": {},
   "source": [
    "假设我们有一个 `dict: Dict<int>?` 的变量\n",
    "\n",
    "如果你用 `map` 调用 `dict.map { $1.get(0) }` 那么会得到 `int??` 这样的双重 `Option` 类型.\n",
    "\n",
    "一般而言, 这种情况应该使用 `and_then` 合并双重 `Option`, `dict.ant_then { $1.get(0) }` 才能得到 `int?`.\n",
    "\n",
    "这种应用也很常见, 所以 vk 提供了 `?.` 运算符.\n",
    "\n",
    "直接写 `map?.get(0)` 即可"
   ]
  },
  {
   "attachments": {},
   "cell_type": "markdown",
   "id": "02840c42",
   "metadata": {},
   "source": [
    "对于 `Result<T, E1>, Result<T, E2>, ...` 组成的 pipeline 也能施加 `?.` 运算符.\n",
    "\n",
    "但是额外要求满足 `E2: From<E1>`, 后一个错误类型需要可以自动从前一个类型转换.\n"
   ]
  },
  {
   "cell_type": "markdown",
   "id": "98af8bc7",
   "metadata": {},
   "source": []
  },
  {
   "cell_type": "markdown",
   "id": "1cd25cee",
   "metadata": {},
   "source": []
  },
  {
   "cell_type": "markdown",
   "id": "b6ef676c",
   "metadata": {},
   "source": [
    "## Null Fill Operators"
   ]
  },
  {
   "cell_type": "code",
   "execution_count": 1,
   "id": "4c06c917",
   "metadata": {},
   "outputs": [
    {
     "data": {
      "application/vnd.jupyter.stderr": "<div class=\"error\">Expect EOF, found:\n{\n    case Some(s): a\n    case None   : b\n}\n\n</div>"
     },
     "execution_count": 1,
     "metadata": {},
     "output_type": "execute_result"
    }
   ],
   "source": [
    "\n",
    "\n",
    "a ?? b\n",
    "a.match {\n",
    "    case Some(s): a\n",
    "    case None   : b\n",
    "}\n",
    "\n"
   ]
  },
  {
   "attachments": {},
   "cell_type": "markdown",
   "id": "939f0f30",
   "metadata": {},
   "source": []
  },
  {
   "cell_type": "markdown",
   "id": "2d5b25b0",
   "metadata": {},
   "source": []
  },
  {
   "cell_type": "code",
   "execution_count": null,
   "id": "8e379757",
   "metadata": {},
   "outputs": [],
   "source": []
  },
  {
   "cell_type": "markdown",
   "id": "3c52096b",
   "metadata": {},
   "source": [
    "## Null Fill Operators"
   ]
  },
  {
   "cell_type": "code",
   "execution_count": null,
   "id": "98e8a65c-9214-400b-a847-7fee826dca33",
   "metadata": {},
   "outputs": [],
   "source": [
    "\n",
    "\n",
    "a ?? b\n",
    "a.match {\n",
    "    case Some(s) => a\n",
    "    case None    => b\n",
    "}\n",
    "\n",
    "\n"
   ]
  },
  {
   "attachments": {},
   "cell_type": "markdown",
   "id": "16fa416d-563d-404a-b5cc-381f2ee1f887",
   "metadata": {},
   "source": [
    "## Lazy Null check"
   ]
  },
  {
   "cell_type": "code",
   "execution_count": null,
   "id": "97bbae59-0d2c-4157-a6b8-c7f54f7267c0",
   "metadata": {},
   "outputs": [
    {
     "data": {
      "application/vnd.jupyter.stderr": "<div class=\"error\">Expect EOF, found:\n: Display + Debug {\n\n}</div>"
     },
     "execution_count": 1,
     "metadata": {},
     "output_type": "execute_result"
    }
   ],
   "source": [
    "\n",
    "a || b\n",
    "\n",
    "a.match {\n",
    "    case Some(s) => a\n",
    "    case None    => { b }()\n",
    "}"
   ]
  },
  {
   "cell_type": "markdown",
   "id": "646474ed-b2c9-4eea-bfc1-96a77f816a5b",
   "metadata": {},
   "source": [
    "## Generic Class"
   ]
  },
  {
   "cell_type": "code",
   "execution_count": null,
   "id": "4b61847f-159d-4a05-bc9c-fc782c07f2a1",
   "metadata": {},
   "outputs": [
    {
     "data": {
      "application/vnd.jupyter.stderr": "<div class=\"error\">Expect EOF, found:\n{\n    x: T;\n    y: T;\n}</div>"
     },
     "execution_count": 9,
     "metadata": {},
     "output_type": "execute_result"
    }
   ],
   "source": [
    "class Point<T> {\n",
    "    x: T;\n",
    "    y: T;\n",
    "}"
   ]
  },
  {
   "cell_type": "code",
   "execution_count": null,
   "id": "9123e245-8a35-495f-868f-bd50e80cbd29",
   "metadata": {},
   "outputs": [],
   "source": []
  }
 ],
 "metadata": {
  "kernelspec": {
   "display_name": "Valkyrie",
   "language": "valkyrie",
   "name": "valkyrie"
  },
  "language_info": {
   "codemirror_mode": "rust",
   "file_extension": "*.rs",
   "mimetype": "scala",
   "name": "valkyrie",
   "nbconvert_exporter": "rust",
   "pygment_lexer": "scala",
   "version": "0.0.0"
  }
 },
 "nbformat": 4,
 "nbformat_minor": 5
}
