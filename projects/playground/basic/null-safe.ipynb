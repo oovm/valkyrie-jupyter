{
 "cells": [
  {
   "attachments": {},
   "cell_type": "markdown",
   "id": "a6072ae7-dd1f-404c-8b6b-d63d21cddb62",
   "metadata": {},
   "source": [
    "# Null Safety\n",
    "\n",
    "Generally speaking, there is no real `null` in the vk language, a similar concept is `Option` type.\n",
    "\n",
    "Option is a monad, which means that the inner value may or may not exist. \n",
    "\n",
    "Since such type is so common, `T?` can be used as a shorthand for `Option<T>`\n",
    "\n",
    "For convenience, the standard library also exports:"
   ]
  },
  {
   "cell_type": "code",
   "execution_count": null,
   "id": "8424d9be",
   "metadata": {
    "vscode": {
     "languageId": "valkyrie"
    }
   },
   "outputs": [],
   "source": [
    "@static\n",
    "let null: Any? = None();"
   ]
  },
  {
   "attachments": {},
   "cell_type": "markdown",
   "id": "b692889c-21dd-4e05-b025-c2a74448d759",
   "metadata": {},
   "source": [
    "## Monadic Raise Operator\n",
    "\n",
    "`!` can be called on all monadic objects in vk"
   ]
  },
  {
   "attachments": {},
   "cell_type": "markdown",
   "id": "15de9c4c",
   "metadata": {},
   "source": [
    "For the `Option<T>` type, use `!` to immediately throw a `NoneError<T>` exception, which will be automatically absorbed by the handler of type `Option<T>`."
   ]
  },
  {
   "cell_type": "code",
   "execution_count": null,
   "id": "a97c1777",
   "metadata": {
    "vscode": {
     "languageId": "valkyrie"
    }
   },
   "outputs": [],
   "source": [
    "# Option a!\n",
    "a.match {\n",
    "    case Some(s): s\n",
    "    case None   : raise NoneError()\n",
    "}"
   ]
  },
  {
   "attachments": {},
   "cell_type": "markdown",
   "id": "97f401cd",
   "metadata": {},
   "source": [
    "For the `Result<T, E1>` type, use `!` to immediately throw an exception of `E` type, which will be automatically absorbed by the handler of type `Result<T, E2>`, where `E2: From< E1>`"
   ]
  },
  {
   "cell_type": "code",
   "execution_count": null,
   "id": "51855a0c",
   "metadata": {
    "vscode": {
     "languageId": "valkyrie"
    }
   },
   "outputs": [],
   "source": [
    "# Result a!\n",
    "a.match {\n",
    "    case Success(s): s\n",
    "    case Failure(e): raise e\n",
    "}"
   ]
  },
  {
   "attachments": {},
   "cell_type": "markdown",
   "id": "6bf062cf",
   "metadata": {},
   "source": [
    "## Monadic Coalesce Operator\n",
    "\n",
    "Suppose we have a variable of `dict: Dict<int>?`.\n",
    "\n",
    "If you call it with `map`, `dict.map { $1.get(0) }` will get a double `Option` type like `int??`.\n",
    "\n",
    "In general, this case should use `and_then` to combine double `Option`, `dict.ant_then { $1.get(0) }` to get `int?`.\n",
    "\n",
    "This kind of application is also very common, so vk provides the `?.` operator.\n",
    "\n",
    "In this case, just write `map?.get(0)`"
   ]
  },
  {
   "attachments": {},
   "cell_type": "markdown",
   "id": "57b964d3",
   "metadata": {},
   "source": [
    "The `?.` operator can also be applied to the pipeline composed of `Result<T, E1>, Result<T, E2>, ...`.\n",
    "\n",
    "But the additional requirement is to satisfy `E2: From<E1>`, that is to say, the latter error type needs to be lossless convertible from the former one."
   ]
  },
  {
   "attachments": {},
   "cell_type": "markdown",
   "id": "02840c42",
   "metadata": {},
   "source": [
    "Similarly, the following call logic is also supported:"
   ]
  },
  {
   "cell_type": "code",
   "execution_count": null,
   "id": "712b8bf2",
   "metadata": {
    "vscode": {
     "languageId": "valkyrie"
    }
   },
   "outputs": [],
   "source": [
    "a?(args)\n",
    "a?[index]"
   ]
  },
  {
   "attachments": {},
   "cell_type": "markdown",
   "id": "b6ef676c",
   "metadata": {},
   "source": [
    "## Monadic Fill Operator\n",
    "\n",
    "Sometimes you want to use the given value when the left side is `None` or `Failure`, then you can use the `??` operator.\n",
    "\n",
    "The sugar process is as follows:"
   ]
  },
  {
   "cell_type": "code",
   "execution_count": null,
   "id": "4c06c917",
   "metadata": {
    "tags": [],
    "vscode": {
     "languageId": "valkyrie"
    }
   },
   "outputs": [],
   "source": [
    "# Option a ?? b\n",
    "a.match {\n",
    "    case Some(s): s\n",
    "    case None   : b\n",
    "}\n",
    "# Result a ?? b\n",
    "a.match {\n",
    "    case Success(s): s\n",
    "    case Failure(_): b\n",
    "}"
   ]
  },
  {
   "attachments": {},
   "cell_type": "markdown",
   "id": "3c52096b",
   "metadata": {},
   "source": [
    "## Or Pattern\n",
    "\n",
    "Sometimes the right side is a complex progress, such as loading data from the network, or requiring user input.\n",
    "\n",
    "At this point, you don't want to call this unless it's really need, then you can use the `||` operator.\n",
    "\n",
    "The sugar process is as follows:"
   ]
  },
  {
   "cell_type": "code",
   "execution_count": null,
   "id": "98e8a65c-9214-400b-a847-7fee826dca33",
   "metadata": {
    "vscode": {
     "languageId": "valkyrie"
    }
   },
   "outputs": [],
   "source": [
    "# Option a || b\n",
    "a.match {\n",
    "    case Some(s): a\n",
    "    case None   : { b }()\n",
    "}"
   ]
  },
  {
   "attachments": {},
   "cell_type": "markdown",
   "id": "16fa416d-563d-404a-b5cc-381f2ee1f887",
   "metadata": {},
   "source": [
    "## Monadic Assignment Operator\n",
    "\n",
    "Sometimes you want the left side to be reassigned if and only if it is null, then you can use the `?=` operator.\n",
    "\n",
    "The sugar process is as follows:"
   ]
  },
  {
   "cell_type": "code",
   "execution_count": null,
   "id": "97bbae59-0d2c-4157-a6b8-c7f54f7267c0",
   "metadata": {
    "vscode": {
     "languageId": "valkyrie"
    }
   },
   "outputs": [],
   "source": [
    "# a ?= b\n",
    "a.match {\n",
    "    case Some(_):\n",
    "    case None   : a = b\n",
    "}"
   ]
  },
  {
   "cell_type": "code",
   "execution_count": null,
   "id": "9123e245-8a35-495f-868f-bd50e80cbd29",
   "metadata": {
    "vscode": {
     "languageId": "valkyrie"
    }
   },
   "outputs": [],
   "source": [
    "Note that there is no other assignment logic, such as:"
   ]
  },
  {
   "cell_type": "code",
   "execution_count": null,
   "id": "36c64663",
   "metadata": {
    "vscode": {
     "languageId": "valkyrie"
    }
   },
   "outputs": [],
   "source": [
    "a ?+= 1\n",
    "a ?-= 1"
   ]
  }
 ],
 "metadata": {
  "kernelspec": {
   "display_name": "Valkyrie",
   "language": "valkyrie",
   "name": "valkyrie"
  },
  "language_info": {
   "codemirror_mode": "rust",
   "file_extension": "*.rs",
   "mimetype": "scala",
   "name": "Valkyrie",
   "nbconvert_exporter": "rust",
   "pygment_lexer": "scala",
   "version": "0.0.0"
  }
 },
 "nbformat": 4,
 "nbformat_minor": 5
}
