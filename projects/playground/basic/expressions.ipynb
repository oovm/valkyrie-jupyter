{
 "cells": [
  {
   "cell_type": "markdown",
   "id": "a6072ae7-dd1f-404c-8b6b-d63d21cddb62",
   "metadata": {},
   "source": [
    "# Expressions"
   ]
  },
  {
   "cell_type": "markdown",
   "id": "646474ed-b2c9-4eea-bfc1-96a77f816a5b",
   "metadata": {},
   "source": [
    "## Index\n",
    "\n",
    "return a element\n",
    "\n",
    "*Valkyrie* uses ordinal numbers by default, but can also use offsets or names.\n",
    "\n",
    "```\n",
    "record[ordinal]\n",
    "record⁅offset⁆\n",
    "record.name\n",
    "```"
   ]
  },
  {
   "cell_type": "code",
   "execution_count": null,
   "id": "4b61847f-159d-4a05-bc9c-fc782c07f2a1",
   "metadata": {},
   "outputs": [],
   "source": [
    "let list = (1, 2, name: 3)⁏\n",
    "\n",
    "\n",
    "list[1]⁏\n",
    "list⁅1⁆⁏\n",
    "\n",
    "list.3⁏\n",
    "list.name⁏"
   ]
  },
  {
   "cell_type": "markdown",
   "id": "062a8110-d7d7-46e6-9dca-6d8117b53ba4",
   "metadata": {},
   "source": [
    "## Slice\n",
    "\n",
    "return a view\n",
    "\n",
    "```\n",
    "record[start:end:step]\n",
    "record⁅start:end:step⁆\n",
    "```"
   ]
  },
  {
   "cell_type": "code",
   "execution_count": null,
   "id": "9123e245-8a35-495f-868f-bd50e80cbd29",
   "metadata": {},
   "outputs": [],
   "source": []
  }
 ],
 "metadata": {
  "kernelspec": {
   "display_name": "Valkyrie",
   "language": "valkyrie",
   "name": "valkyrie"
  },
  "language_info": {
   "codemirror_mode": "rust",
   "file_extension": "*.rs",
   "mimetype": "scala",
   "name": "Valkyrie",
   "nbconvert_exporter": "rust",
   "pygment_lexer": "scala",
   "version": "0.0.0"
  }
 },
 "nbformat": 4,
 "nbformat_minor": 5
}
