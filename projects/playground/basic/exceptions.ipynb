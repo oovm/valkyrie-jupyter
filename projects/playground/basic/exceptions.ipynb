{
 "cells": [
  {
   "cell_type": "code",
   "execution_count": null,
   "id": "f01b667b-5008-4644-bc9e-4f650b4fe54c",
   "metadata": {},
   "outputs": [],
   "source": [
    "拦截器只能有一个, 拦截器必须是具体的类型\n",
    "\n",
    "try T? {\n",
    "    a?\n",
    "}\n",
    ".catch {\n",
    "    case E1:\n",
    "    case E2:\n",
    "}"
   ]
  }
 ],
 "metadata": {
  "kernelspec": {
   "display_name": "Valkyrie",
   "language": "valkyrie",
   "name": "valkyrie"
  },
  "language_info": {
   "codemirror_mode": "rust",
   "file_extension": "*.rs",
   "mimetype": "scala",
   "name": "valkyrie",
   "nbconvert_exporter": "rust",
   "pygment_lexer": "scala",
   "version": "0.0.0"
  }
 },
 "nbformat": 4,
 "nbformat_minor": 5
}
