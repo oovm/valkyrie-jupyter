{
 "cells": [
  {
   "cell_type": "markdown",
   "id": "a6072ae7-dd1f-404c-8b6b-d63d21cddb62",
   "metadata": {},
   "source": [
    "# Let Binding\n",
    "\n",
    "Use `let` to define constants, `let mut` to define variables, use `;` to mask the output of a `let` statement.\n",
    "\n",
    "final 用于防止意外覆盖上文中的变量"
   ]
  },
  {
   "cell_type": "code",
   "execution_count": 1,
   "id": "98e8a65c-9214-400b-a847-7fee826dca33",
   "metadata": {},
   "outputs": [
    {
     "data": {
      "text/html": [
       "<span class=\"color: oriange\">1</span>"
      ]
     },
     "execution_count": 1,
     "metadata": {},
     "output_type": "execute_result"
    }
   ],
   "source": [
    "let a = 1\n",
    "let final fa = 1;"
   ]
  },
  {
   "cell_type": "markdown",
   "id": "16fa416d-563d-404a-b5cc-381f2ee1f887",
   "metadata": {},
   "source": [
    "Note that rebinding of `let` overrides previous definitions, even if the variable is an immutable constant."
   ]
  },
  {
   "cell_type": "code",
   "execution_count": 2,
   "id": "97bbae59-0d2c-4157-a6b8-c7f54f7267c0",
   "metadata": {},
   "outputs": [
    {
     "data": {
      "text/html": [
       "<span style=\"color: red\">Error: Variable fa can't rebind</span>"
      ]
     },
     "execution_count": 2,
     "metadata": {},
     "output_type": "execute_result"
    }
   ],
   "source": [
    "let a = 2;\n",
    "let fa = 2;"
   ]
  },
  {
   "cell_type": "markdown",
   "id": "7738568e-35a2-4ad0-a80e-fea8d322ed62",
   "metadata": {},
   "source": [
    "Enter the variable name to get the value of the variable binding\n",
    "\n",
    "Undefined variables will report an error"
   ]
  },
  {
   "cell_type": "code",
   "execution_count": 3,
   "id": "d32b32ad-1a3b-40bc-8fe1-93078b80c356",
   "metadata": {},
   "outputs": [],
   "source": [
    "let b = 1;\n",
    "let mut mb = 1;"
   ]
  },
  {
   "cell_type": "code",
   "execution_count": null,
   "id": "27b6baaa-9142-4ea5-8578-b9f15143ee74",
   "metadata": {},
   "outputs": [],
   "source": [
    "b = 2\n",
    "mb = 2"
   ]
  },
  {
   "cell_type": "markdown",
   "id": "646474ed-b2c9-4eea-bfc1-96a77f816a5b",
   "metadata": {},
   "source": [
    "# Call"
   ]
  },
  {
   "cell_type": "code",
   "execution_count": null,
   "id": "4b61847f-159d-4a05-bc9c-fc782c07f2a1",
   "metadata": {},
   "outputs": [],
   "source": [
    "print(\"it works!\")"
   ]
  },
  {
   "cell_type": "code",
   "execution_count": null,
   "id": "e0788c7a-d3a6-4c96-8e30-e41b4de8e7fe",
   "metadata": {},
   "outputs": [],
   "source": [
    "[1, 2, 3][1]\n",
    "[1, 2, 3]⁅1⁆"
   ]
  },
  {
   "cell_type": "code",
   "execution_count": null,
   "id": "9123e245-8a35-495f-868f-bd50e80cbd29",
   "metadata": {},
   "outputs": [],
   "source": []
  }
 ],
 "metadata": {
  "kernelspec": {
   "display_name": "Valkyrie",
   "language": "valkyrie",
   "name": "valkyrie"
  },
  "language_info": {
   "codemirror_mode": "rust",
   "file_extension": "*.rs",
   "mimetype": "scala",
   "name": "Valkyrie",
   "nbconvert_exporter": "rust",
   "pygment_lexer": "scala",
   "version": "0.0.0"
  }
 },
 "nbformat": 4,
 "nbformat_minor": 5
}
