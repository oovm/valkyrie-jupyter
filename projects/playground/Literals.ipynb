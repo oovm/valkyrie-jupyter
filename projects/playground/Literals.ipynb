{
 "cells": [
  {
   "cell_type": "markdown",
   "id": "cf058a32-c2da-4c73-8a1f-a8da807f4148",
   "metadata": {},
   "source": [
    "# Literal"
   ]
  },
  {
   "cell_type": "markdown",
   "id": "16280760-e5e2-4622-a01f-41f51551bbf1",
   "metadata": {},
   "source": [
    "## Boolean\n"
   ]
  },
  {
   "cell_type": "code",
   "execution_count": 1,
   "id": "8645cc1f-e440-4189-b221-fa10a855a6fc",
   "metadata": {},
   "outputs": [
    {
     "data": {
      "text/html": [
       "<span style=\"color: pink\">true</span>"
      ]
     },
     "execution_count": 1,
     "metadata": {},
     "output_type": "execute_result"
    },
    {
     "data": {
      "text/html": [
       "<span style=\"color: pink\">false</span>"
      ]
     },
     "execution_count": 1,
     "metadata": {},
     "output_type": "execute_result"
    }
   ],
   "source": [
    "true\n",
    "false"
   ]
  },
  {
   "cell_type": "markdown",
   "id": "25c8b166-1b01-4de7-a310-ef14ea4e053b",
   "metadata": {},
   "source": [
    "## Integer"
   ]
  },
  {
   "cell_type": "code",
   "execution_count": 2,
   "id": "35753e5e-8c0a-4b55-8b0d-7e03466c5346",
   "metadata": {},
   "outputs": [
    {
     "data": {
      "text/html": [
       "<span class=\"color: oriange\">0</span>"
      ]
     },
     "execution_count": 2,
     "metadata": {},
     "output_type": "execute_result"
    },
    {
     "data": {
      "text/html": [
       "<span class=\"color: oriange\">4294967296</span>"
      ]
     },
     "execution_count": 2,
     "metadata": {},
     "output_type": "execute_result"
    }
   ],
   "source": [
    "0\n",
    "4294967296"
   ]
  },
  {
   "cell_type": "code",
   "execution_count": null,
   "id": "0c9dd559-df85-481a-be60-e798f2a58607",
   "metadata": {},
   "outputs": [],
   "source": []
  },
  {
   "cell_type": "markdown",
   "id": "438eff97-b5a4-497b-80e3-d2071ecd06c2",
   "metadata": {
    "tags": []
   },
   "source": [
    "## String"
   ]
  },
  {
   "cell_type": "code",
   "execution_count": 3,
   "id": "3bdc0116-cfd6-48ff-a091-2dba8297c5f5",
   "metadata": {},
   "outputs": [
    {
     "data": {
      "text/plain": [
       "'string'"
      ]
     },
     "execution_count": 3,
     "metadata": {},
     "output_type": "execute_result"
    },
    {
     "data": {
      "text/plain": [
       "'string'"
      ]
     },
     "execution_count": 3,
     "metadata": {},
     "output_type": "execute_result"
    }
   ],
   "source": [
    "'string'\n",
    "\"string\""
   ]
  },
  {
   "cell_type": "markdown",
   "id": "357665ca-be5a-4cb2-8f03-507ac96f5716",
   "metadata": {},
   "source": [
    "## Raw Literal"
   ]
  },
  {
   "cell_type": "code",
   "execution_count": null,
   "id": "c5cf96ad-b017-4072-8b7f-0c0d1e2d95ae",
   "metadata": {},
   "outputs": [],
   "source": []
  },
  {
   "cell_type": "code",
   "execution_count": null,
   "id": "fb664c63-835c-45b4-8a4f-c8ba5f05acf3",
   "metadata": {},
   "outputs": [],
   "source": []
  },
  {
   "cell_type": "code",
   "execution_count": 4,
   "id": "171a1443-c72d-4995-b83d-07e71f5b87cc",
   "metadata": {},
   "outputs": [
    {
     "data": {
      "text/plain": [
       "'line    \\\\n   other line'"
      ]
     },
     "execution_count": 4,
     "metadata": {},
     "output_type": "execute_result"
    },
    {
     "data": {
      "text/plain": [
       "line    \\n   other line"
      ]
     },
     "execution_count": 4,
     "metadata": {},
     "output_type": "execute_result"
    }
   ],
   "source": [
    "\"line    \\n   other line\"\n",
    "r\"line    \\n   other line\""
   ]
  },
  {
   "cell_type": "markdown",
   "id": "ab2b0cf8-de11-4ee8-9aed-9096cf1f4a89",
   "metadata": {},
   "source": [
    "## Json Literal\n",
    "\n",
    "TODO: support json literal"
   ]
  },
  {
   "cell_type": "code",
   "execution_count": 5,
   "id": "b9e71bd7-2bda-4653-a2fd-e71740091192",
   "metadata": {},
   "outputs": [
    {
     "data": {
      "application/json": {
       "a": 2
      }
     },
     "execution_count": 5,
     "metadata": {},
     "output_type": "execute_result"
    },
    {
     "data": {
      "application/vnd.jupyter.stderr": "<div class=\"error\">Error: key must be a string at line 3 column 5</div>"
     },
     "execution_count": 5,
     "metadata": {},
     "output_type": "execute_result"
    }
   ],
   "source": [
    "json\"\"\"\n",
    "{\n",
    "    \"a\": 2\n",
    "}\n",
    "\"\"\"\n",
    "\n",
    "# json5 also works\n",
    "json\"\n",
    "{\n",
    "    a: 2\n",
    "}\n",
    "\""
   ]
  },
  {
   "cell_type": "markdown",
   "id": "1de89453-584a-4805-9219-647831b4639d",
   "metadata": {},
   "source": [
    "## Html Literal"
   ]
  },
  {
   "cell_type": "code",
   "execution_count": 6,
   "id": "900f7128-3ec0-4d4e-954a-591400f341d7",
   "metadata": {},
   "outputs": [
    {
     "data": {
      "text/html": [
       "\n",
       "<table>\n",
       "    <thead>\n",
       "        <tr>\n",
       "            <th colspan=\"2\">The table header</th>\n",
       "        </tr>\n",
       "    </thead>\n",
       "    <tbody>\n",
       "        <tr>\n",
       "            <td>The table body</td>\n",
       "            <td>with two columns</td>\n",
       "        </tr>\n",
       "    </tbody>\n",
       "</table>\n"
      ]
     },
     "execution_count": 6,
     "metadata": {},
     "output_type": "execute_result"
    }
   ],
   "source": [
    "html\"\"\"\n",
    "<table>\n",
    "    <thead>\n",
    "        <tr>\n",
    "            <th colspan=\"2\">The table header</th>\n",
    "        </tr>\n",
    "    </thead>\n",
    "    <tbody>\n",
    "        <tr>\n",
    "            <td>The table body</td>\n",
    "            <td>with two columns</td>\n",
    "        </tr>\n",
    "    </tbody>\n",
    "</table>\n",
    "\"\"\""
   ]
  },
  {
   "cell_type": "markdown",
   "id": "c296b5ef-f857-4ce5-b491-394c5270306f",
   "metadata": {},
   "source": [
    "## Regular Expression Literal"
   ]
  },
  {
   "cell_type": "code",
   "execution_count": 7,
   "id": "842de085-2f28-46b3-a885-d9b6d198f684",
   "metadata": {},
   "outputs": [
    {
     "data": {
      "application/vnd.jupyter.stderr": "<div class=\"error\">Error: expected value at line 1 column 1</div>"
     },
     "execution_count": 7,
     "metadata": {},
     "output_type": "execute_result"
    }
   ],
   "source": [
    "re\"a\""
   ]
  },
  {
   "cell_type": "code",
   "execution_count": null,
   "id": "356bb3cf-e6cc-40e1-bb97-89ab26a9cda2",
   "metadata": {},
   "outputs": [],
   "source": []
  },
  {
   "cell_type": "code",
   "execution_count": null,
   "id": "032ce117-2bf7-4622-a5c4-b14b6d4939f8",
   "metadata": {},
   "outputs": [],
   "source": []
  },
  {
   "cell_type": "markdown",
   "id": "53223fc0-f0cd-4fd4-8278-e71560955b2d",
   "metadata": {
    "tags": []
   },
   "source": [
    "## Table\n",
    "\n",
    "The most basic data structure of vk language is `Table`\n",
    "\n",
    "Table is both a list and a dictionary. If you do not specify any collection type, a `Table` will be created.\n",
    "\n",
    "The literal form of Table is `[ ... ]`\n",
    "\n",
    "\n"
   ]
  },
  {
   "cell_type": "code",
   "execution_count": null,
   "id": "136f27de-3c30-45d0-beb9-c7eff1f067af",
   "metadata": {},
   "outputs": [],
   "source": [
    "# empty table\n",
    "[]\n",
    "# list like table\n",
    "[1, 2, 3]\n",
    "# dict like table\n",
    "[\n",
    "    a: 1, \n",
    "    b: 2,\n",
    "]\n",
    "# mix style table\n",
    "[\n",
    "    1, 2, 3,\n",
    "    a: 1,\n",
    "    b: 2,\n",
    "]"
   ]
  },
  {
   "cell_type": "code",
   "execution_count": null,
   "id": "9997a7ce-e5a8-460f-bea5-f35fe1cf03f4",
   "metadata": {},
   "outputs": [],
   "source": [
    "# 惰性求值\n",
    "table.items\n",
    "table.pairs\n",
    "\n",
    "# 急性求值\n",
    "table.all_items"
   ]
  },
  {
   "cell_type": "code",
   "execution_count": null,
   "id": "7f8a853b-2461-4f99-8546-18c22e1f5f93",
   "metadata": {},
   "outputs": [],
   "source": []
  },
  {
   "cell_type": "code",
   "execution_count": null,
   "id": "9e2460ce-13ce-43f6-a0fb-136f13af1fb1",
   "metadata": {},
   "outputs": [],
   "source": []
  },
  {
   "cell_type": "code",
   "execution_count": null,
   "id": "a8dec0dc-3099-4b80-ae39-b26560a48f23",
   "metadata": {},
   "outputs": [],
   "source": [
    "List([1, 2, 3])\n",
    "Dict([1, 2, 3])"
   ]
  },
  {
   "cell_type": "code",
   "execution_count": null,
   "id": "1611e9b3-cc0d-460d-9ab5-60f635c95688",
   "metadata": {},
   "outputs": [],
   "source": []
  },
  {
   "cell_type": "code",
   "execution_count": null,
   "id": "4ed49d07-2c69-466a-93fe-e7291326bb55",
   "metadata": {},
   "outputs": [],
   "source": [
    "List([a: 1])\n",
    "Dict([a: 1])"
   ]
  },
  {
   "cell_type": "code",
   "execution_count": null,
   "id": "065f256c-d533-4f8f-968c-1ac43dd33cc7",
   "metadata": {},
   "outputs": [],
   "source": []
  },
  {
   "cell_type": "code",
   "execution_count": null,
   "id": "510a6814-e12d-4f16-bb80-a58dcfdd3a2f",
   "metadata": {},
   "outputs": [],
   "source": []
  },
  {
   "cell_type": "code",
   "execution_count": null,
   "id": "daf95ac6-bd39-4f16-9dfb-7fff802a221e",
   "metadata": {},
   "outputs": [],
   "source": []
  },
  {
   "cell_type": "code",
   "execution_count": null,
   "id": "e2cbed26-f36c-4385-b813-b3ddcdf202f2",
   "metadata": {},
   "outputs": [],
   "source": []
  },
  {
   "cell_type": "code",
   "execution_count": null,
   "id": "480122ed-2425-48b3-b4a7-63d362a64e3d",
   "metadata": {},
   "outputs": [],
   "source": [
    "Tuple"
   ]
  },
  {
   "cell_type": "code",
   "execution_count": null,
   "id": "942987c1-90c7-40d0-9444-3a445866c9d7",
   "metadata": {},
   "outputs": [],
   "source": [
    "(1, 2, 3)"
   ]
  },
  {
   "cell_type": "code",
   "execution_count": null,
   "id": "98e8a65c-9214-400b-a847-7fee826dca33",
   "metadata": {},
   "outputs": [],
   "source": [
    "let a = 1\n",
    "let final fa = 1;"
   ]
  },
  {
   "cell_type": "markdown",
   "id": "16fa416d-563d-404a-b5cc-381f2ee1f887",
   "metadata": {},
   "source": [
    "Note that rebinding of `let` overrides previous definitions, even if the variable is an immutable constant."
   ]
  },
  {
   "cell_type": "code",
   "execution_count": null,
   "id": "97bbae59-0d2c-4157-a6b8-c7f54f7267c0",
   "metadata": {},
   "outputs": [],
   "source": [
    "let a = 2;\n",
    "let fa = 2;"
   ]
  },
  {
   "cell_type": "markdown",
   "id": "7738568e-35a2-4ad0-a80e-fea8d322ed62",
   "metadata": {},
   "source": [
    "Enter the variable name to get the value of the variable binding\n",
    "\n",
    "Undefined variables will report an error"
   ]
  },
  {
   "cell_type": "code",
   "execution_count": null,
   "id": "d32b32ad-1a3b-40bc-8fe1-93078b80c356",
   "metadata": {},
   "outputs": [],
   "source": [
    "let b = 1;\n",
    "let mut mb = 1;"
   ]
  },
  {
   "cell_type": "code",
   "execution_count": null,
   "id": "27b6baaa-9142-4ea5-8578-b9f15143ee74",
   "metadata": {},
   "outputs": [],
   "source": [
    "b = 2\n",
    "mb = 2"
   ]
  },
  {
   "cell_type": "code",
   "execution_count": null,
   "id": "9123e245-8a35-495f-868f-bd50e80cbd29",
   "metadata": {},
   "outputs": [],
   "source": []
  },
  {
   "cell_type": "code",
   "execution_count": null,
   "id": "c24d623b-299d-475b-b78a-10f6f008c575",
   "metadata": {},
   "outputs": [],
   "source": [
    "IndexMap()\n",
    "OrderMap()\n",
    "HashMap()"
   ]
  },
  {
   "cell_type": "code",
   "execution_count": null,
   "id": "2a842689-c5e2-4154-b1e6-5ef03631b2c8",
   "metadata": {},
   "outputs": [],
   "source": [
    "IndexSet()\n",
    "OrderSet()\n",
    "HashSet()"
   ]
  },
  {
   "cell_type": "code",
   "execution_count": null,
   "id": "cceab6d4-f6ae-409c-958c-123c26a92e1b",
   "metadata": {},
   "outputs": [],
   "source": []
  },
  {
   "cell_type": "code",
   "execution_count": null,
   "id": "776e1076-f813-483e-88e6-ef7570d11385",
   "metadata": {},
   "outputs": [],
   "source": []
  },
  {
   "cell_type": "code",
   "execution_count": null,
   "id": "b715e9df-a6a2-4362-8acb-66fd9a787027",
   "metadata": {},
   "outputs": [],
   "source": [
    "Array 相当于 Vec<Any>\n",
    "ArrayView 相当于 &[Any]"
   ]
  },
  {
   "cell_type": "code",
   "execution_count": null,
   "id": "1708e449-75d9-46fa-9b9b-7b7e7636842e",
   "metadata": {},
   "outputs": [],
   "source": [
    "Array0\n",
    "ArrayView0\n",
    "Array1\n",
    "ArrayView1\n",
    "Array2\n",
    "ArrayView2"
   ]
  },
  {
   "cell_type": "code",
   "execution_count": null,
   "id": "1dfac447-7067-40d2-84a9-675588a4dc5a",
   "metadata": {},
   "outputs": [],
   "source": [
    "BitArray\n",
    "\n",
    "ByteArray\n",
    "\n",
    "bits(a)\n",
    "\n",
    "\n",
    "bytes(a)\n",
    "\n",
    "\n",
    "\n",
    "\n",
    "\n"
   ]
  },
  {
   "cell_type": "code",
   "execution_count": null,
   "id": "cf7c48d2-cbc6-4cea-8fd4-186d64ec84b8",
   "metadata": {},
   "outputs": [],
   "source": [
    "new Array(2, 2) {\n",
    "    0, 0,\n",
    "    0, 0,\n",
    "}"
   ]
  },
  {
   "cell_type": "code",
   "execution_count": null,
   "id": "9ea22cab-9244-4ea6-81fd-01edd8ec0be0",
   "metadata": {},
   "outputs": [],
   "source": [
    "@array(2, 2) {\n",
    "    0, 0,\n",
    "    0, 0,\n",
    "}"
   ]
  },
  {
   "cell_type": "code",
   "execution_count": null,
   "id": "93262061-0cb2-493b-a913-93db440df77d",
   "metadata": {},
   "outputs": [],
   "source": [
    "\n",
    "Builder::build\n",
    "\n",
    "Creator::new\n",
    "\n",
    "Collector::collect\n",
    "\n",
    "Extractor::extrct\n",
    "\n",
    "Caller::apply \n",
    "\n",
    "\n",
    "\n",
    "\n",
    "\n",
    "A()\n",
    "\n",
    "new A()\n",
    "\n",
    "\n",
    "case A()\n",
    "\n",
    "\n",
    "A.destruct()\n",
    "\n",
    "\n",
    "\n",
    "A()"
   ]
  },
  {
   "cell_type": "code",
   "execution_count": null,
   "id": "8a16ae26-575b-4a0c-8555-83205c0fd25b",
   "metadata": {},
   "outputs": [],
   "source": [
    "申请内存, 开辟空间\n",
    "Allocator::allocate\n",
    "\n",
    "开始构建, 申请资源\n",
    "Constructor::construct\n",
    "\n",
    "归还资源\n",
    "Neutralizer::neutralize\n",
    "\n",
    "归还内存\n",
    "Destructor::destruct\n",
    "\n",
    "注销内存\n",
    "Finalizer::finalize\n",
    "\n",
    "\n",
    "程序终结\n",
    "Terminator"
   ]
  }
 ],
 "metadata": {
  "kernelspec": {
   "display_name": "Valkyrie",
   "language": "valkyrie",
   "name": "valkyrie"
  },
  "language_info": {
   "codemirror_mode": "rust",
   "file_extension": "*.rs",
   "mimetype": "scala",
   "name": "Valkyrie",
   "nbconvert_exporter": "rust",
   "pygment_lexer": "scala",
   "version": "0.0.0"
  }
 },
 "nbformat": 4,
 "nbformat_minor": 5
}
