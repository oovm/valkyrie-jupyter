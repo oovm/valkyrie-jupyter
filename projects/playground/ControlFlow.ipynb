{
 "cells": [
  {
   "cell_type": "code",
   "execution_count": null,
   "id": "7dac9616-4246-4501-9ec7-c72c4d58318a",
   "metadata": {},
   "outputs": [],
   "source": [
    "let a = input();\n",
    "if a > 10 {\n",
    "    2\n",
    "}"
   ]
  },
  {
   "cell_type": "code",
   "execution_count": null,
   "id": "9cef90e3-10da-4ad9-8bb2-0a1b5710c57d",
   "metadata": {},
   "outputs": [],
   "source": [
    "let a = input();\n",
    "if a > 10 {\n",
    "    1\n",
    "}\n",
    "else {\n",
    "    2\n",
    "}"
   ]
  },
  {
   "cell_type": "code",
   "execution_count": null,
   "id": "aab400e3-d276-4414-a16d-6a583689caba",
   "metadata": {},
   "outputs": [],
   "source": [
    "let a = input();\n",
    "if a > 10 {\n",
    "    1\n",
    "}\n",
    "else if a > 5 {\n",
    "\n",
    "}\n",
    "else {\n",
    "    2\n",
    "}"
   ]
  },
  {
   "cell_type": "code",
   "execution_count": null,
   "id": "9c139882-c3a4-4539-8f32-63c93a80a937",
   "metadata": {},
   "outputs": [],
   "source": []
  }
 ],
 "metadata": {
  "kernelspec": {
   "display_name": "Valkyrie",
   "language": "valkyrie",
   "name": "valkyrie"
  },
  "language_info": {
   "codemirror_mode": "rust",
   "file_extension": "*.rs",
   "mimetype": "scala",
   "name": "Valkyrie",
   "nbconvert_exporter": "rust",
   "pygment_lexer": "scala",
   "version": "0.0.0"
  }
 },
 "nbformat": 4,
 "nbformat_minor": 5
}
