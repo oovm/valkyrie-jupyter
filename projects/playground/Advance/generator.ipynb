{
 "cells": [
  {
   "cell_type": "markdown",
   "id": "42d000d5-8d94-4701-87b4-ac386db1aa16",
   "metadata": {},
   "source": [
    "## Concurrent Programming"
   ]
  },
  {
   "cell_type": "code",
   "execution_count": 2,
   "id": "0f92a57e-982d-473b-917b-a741ccbb34b5",
   "metadata": {},
   "outputs": [
    {
     "data": {
      "application/vnd.jupyter.stderr": "<div class=\"error\">Expect EOF, found:\n@cps\nfun delay() {\n\n}</div>"
     },
     "execution_count": 2,
     "metadata": {},
     "output_type": "execute_result"
    }
   ],
   "source": [
    "@cps\n",
    "fun delay() {\n",
    "\n",
    "}"
   ]
  },
  {
   "cell_type": "code",
   "execution_count": null,
   "id": "d5a07e9a-6c60-4321-9000-19c4d7e6ecf3",
   "metadata": {},
   "outputs": [],
   "source": []
  }
 ],
 "metadata": {
  "kernelspec": {
   "display_name": "Valkyrie",
   "language": "valkyrie",
   "name": "valkyrie"
  },
  "language_info": {
   "codemirror_mode": "rust",
   "file_extension": "*.rs",
   "mimetype": "scala",
   "name": "Valkyrie",
   "nbconvert_exporter": "rust",
   "pygment_lexer": "scala",
   "version": "0.0.0"
  }
 },
 "nbformat": 4,
 "nbformat_minor": 5
}
