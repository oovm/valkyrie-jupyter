{
 "cells": [
  {
   "cell_type": "markdown",
   "id": "42d000d5-8d94-4701-87b4-ac386db1aa16",
   "metadata": {},
   "source": [
    "# Iterator programming\n",
    "\n",
    "\n",
    "\n",
    "\n",
    "```rust\n",
    "interface Iterator {\n",
    "    type Item;\n",
    "\n",
    "    next(mut self): Item?;\n",
    "}\n",
    "```\n",
    "\n",
    "\n",
    "\n",
    "\n",
    "```rust\n",
    "interface IntoIterator {\n",
    "    type Item;\n",
    "    type Target;\n",
    "\n",
    "    into_iterator(self) -> Target;\n",
    "}\n",
    "\n",
    "interface FromIterator {\n",
    "    from_iterator<T>(iterable: T) -> Self where T: IntoIterator<Item=A>;\n",
    "}\n",
    "\n",
    "```\n",
    "\n"
   ]
  },
  {
   "cell_type": "code",
   "execution_count": 4,
   "id": "0f92a57e-982d-473b-917b-a741ccbb34b5",
   "metadata": {},
   "outputs": [
    {
     "data": {
      "application/vnd.jupyter.stderr": "<div class=\"error\">Expect EOF, found:\n{\n    min: int = 0;\n    max: int = 1;\n}\n\n\nextends Fibonacci: Iterator {\n    type Item = int;\n    \n    next(mut self): Item? {\n        let ret = self.min;\n        (self.min, self.max) = (self.max, self.min + self.max);\n        return ret\n    }\n}\n\n\nfor item in Fibonacci().take(10) {\n\n}\n</div>"
     },
     "execution_count": 4,
     "metadata": {},
     "output_type": "execute_result"
    }
   ],
   "source": [
    "class Fibonacci {\n",
    "    min: int = 0;\n",
    "    max: int = 1;\n",
    "}\n",
    "\n",
    "\n",
    "extends Fibonacci: Iterator {\n",
    "    type Item = int;\n",
    "    \n",
    "    next(mut self): Item? {\n",
    "        let ret = self.min;\n",
    "        (self.min, self.max) = (self.max, self.min + self.max);\n",
    "        return ret\n",
    "    }\n",
    "}\n",
    "\n",
    "\n",
    "for item in Fibonacci().take(10) {\n",
    "\n",
    "}\n"
   ]
  },
  {
   "cell_type": "code",
   "execution_count": null,
   "id": "d5a07e9a-6c60-4321-9000-19c4d7e6ecf3",
   "metadata": {},
   "outputs": [],
   "source": []
  }
 ],
 "metadata": {
  "kernelspec": {
   "display_name": "Valkyrie",
   "language": "valkyrie",
   "name": "valkyrie"
  },
  "language_info": {
   "codemirror_mode": "rust",
   "file_extension": "*.rs",
   "mimetype": "scala",
   "name": "Valkyrie",
   "nbconvert_exporter": "rust",
   "pygment_lexer": "scala",
   "version": "0.0.0"
  }
 },
 "nbformat": 4,
 "nbformat_minor": 5
}
